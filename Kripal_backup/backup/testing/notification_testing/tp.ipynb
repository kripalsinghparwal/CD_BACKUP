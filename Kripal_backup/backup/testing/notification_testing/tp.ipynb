{
 "cells": [
  {
   "cell_type": "code",
   "execution_count": 28,
   "metadata": {},
   "outputs": [],
   "source": [
    "from selenium import webdriver\n",
    "from selenium.webdriver.chrome.options import Options\n",
    "from selenium.webdriver.support.wait import WebDriverWait\n",
    "from selenium.webdriver.common.by import By\n",
    "from selenium.webdriver.support import expected_conditions as EC\n",
    "import time\n",
    "from selenium.webdriver import ActionChains, Keys\n",
    "from bs4 import BeautifulSoup as bs\n",
    "import pandas as pd\n",
    "from webdriver_manager.chrome import ChromeDriverManager\n",
    "from selenium.webdriver.common.action_chains import ActionChains"
   ]
  },
  {
   "cell_type": "code",
   "execution_count": 44,
   "metadata": {},
   "outputs": [
    {
     "name": "stderr",
     "output_type": "stream",
     "text": [
      "C:\\Users\\Kripal\\AppData\\Local\\Temp\\ipykernel_4420\\1458330657.py:1: DeprecationWarning: executable_path has been deprecated, please pass in a Service object\n",
      "  driver = webdriver.Chrome(ChromeDriverManager().install())\n"
     ]
    }
   ],
   "source": [
    "\n",
    "driver = webdriver.Chrome(ChromeDriverManager().install())\n",
    "driver.get('https://timespro.com/')\n",
    "time.sleep(2)\n",
    "# driver.maximize_window()\n",
    "time.sleep\n",
    "#add scroll\n",
    "\n",
    "\n",
    "#BLOCK-1\n",
    "data1 = {'url':[],'course':[],'category':[],'title': []}\n",
    "section_id_list = [\"EarlyCareerCourses\", \"ExecutiveEducationCourses\"]"
   ]
  },
  {
   "cell_type": "code",
   "execution_count": 63,
   "metadata": {},
   "outputs": [
    {
     "ename": "ElementNotInteractableException",
     "evalue": "Message: element not interactable: [object HTMLButtonElement] has no size and location\n  (Session info: chrome=122.0.6261.95)\nStacktrace:\n\tGetHandleVerifier [0x01098C93+51395]\n\t(No symbol) [0x01005EF1]\n\t(No symbol) [0x00EBE13A]\n\t(No symbol) [0x00EC2480]\n\t(No symbol) [0x00EC3E69]\n\t(No symbol) [0x00EC3F00]\n\t(No symbol) [0x00EFB0F6]\n\t(No symbol) [0x00EFA827]\n\t(No symbol) [0x00F30642]\n\t(No symbol) [0x00F13E8C]\n\t(No symbol) [0x00F2A570]\n\t(No symbol) [0x00F13C26]\n\t(No symbol) [0x00EEC629]\n\t(No symbol) [0x00EED40D]\n\tGetHandleVerifier [0x01416453+3711107]\n\tGetHandleVerifier [0x0145583A+3970154]\n\tGetHandleVerifier [0x01450B28+3950424]\n\tGetHandleVerifier [0x01149C99+776393]\n\t(No symbol) [0x010116C4]\n\t(No symbol) [0x0100C5A8]\n\t(No symbol) [0x0100C759]\n\t(No symbol) [0x00FFDD80]\n\tBaseThreadInitThunk [0x759DFCC9+25]\n\tRtlGetAppContainerNamedObjectPath [0x77147C5E+286]\n\tRtlGetAppContainerNamedObjectPath [0x77147C2E+238]\n",
     "output_type": "error",
     "traceback": [
      "\u001b[1;31m---------------------------------------------------------------------------\u001b[0m",
      "\u001b[1;31mElementNotInteractableException\u001b[0m           Traceback (most recent call last)",
      "Cell \u001b[1;32mIn[63], line 3\u001b[0m\n\u001b[0;32m      1\u001b[0m know_more_button \u001b[38;5;241m=\u001b[39m driver\u001b[38;5;241m.\u001b[39mfind_elements(By\u001b[38;5;241m.\u001b[39mCLASS_NAME, \u001b[38;5;124m\"\u001b[39m\u001b[38;5;124mMuiButtonBase-root.MuiButton-root.MuiButton-red.MuiButton-redPrimary.MuiButton-sizeMedium.MuiButton-redSizeMedium.MuiButton-root.MuiButton-red.MuiButton-redPrimary.MuiButton-sizeMedium.MuiButton-redSizeMedium.css-eou14m\u001b[39m\u001b[38;5;124m\"\u001b[39m)[\u001b[38;5;241m1\u001b[39m]\n\u001b[0;32m      2\u001b[0m actions \u001b[38;5;241m=\u001b[39m ActionChains(driver)\n\u001b[1;32m----> 3\u001b[0m \u001b[43mactions\u001b[49m\u001b[38;5;241;43m.\u001b[39;49m\u001b[43mmove_to_element\u001b[49m\u001b[43m(\u001b[49m\u001b[43mknow_more_button\u001b[49m\u001b[43m)\u001b[49m\u001b[38;5;241;43m.\u001b[39;49m\u001b[43mperform\u001b[49m\u001b[43m(\u001b[49m\u001b[43m)\u001b[49m\n\u001b[0;32m      4\u001b[0m time\u001b[38;5;241m.\u001b[39msleep(\u001b[38;5;241m10\u001b[39m)\n",
      "File \u001b[1;32mc:\\Users\\Kripal\\Desktop\\testing\\myenv\\lib\\site-packages\\selenium\\webdriver\\common\\action_chains.py:73\u001b[0m, in \u001b[0;36mActionChains.perform\u001b[1;34m(self)\u001b[0m\n\u001b[0;32m     71\u001b[0m \u001b[38;5;28;01mdef\u001b[39;00m \u001b[38;5;21mperform\u001b[39m(\u001b[38;5;28mself\u001b[39m):\n\u001b[0;32m     72\u001b[0m \u001b[38;5;250m    \u001b[39m\u001b[38;5;124;03m\"\"\"Performs all stored actions.\"\"\"\u001b[39;00m\n\u001b[1;32m---> 73\u001b[0m     \u001b[38;5;28;43mself\u001b[39;49m\u001b[38;5;241;43m.\u001b[39;49m\u001b[43mw3c_actions\u001b[49m\u001b[38;5;241;43m.\u001b[39;49m\u001b[43mperform\u001b[49m\u001b[43m(\u001b[49m\u001b[43m)\u001b[49m\n",
      "File \u001b[1;32mc:\\Users\\Kripal\\Desktop\\testing\\myenv\\lib\\site-packages\\selenium\\webdriver\\common\\actions\\action_builder.py:91\u001b[0m, in \u001b[0;36mActionBuilder.perform\u001b[1;34m(self)\u001b[0m\n\u001b[0;32m     89\u001b[0m         enc[\u001b[38;5;124m\"\u001b[39m\u001b[38;5;124mactions\u001b[39m\u001b[38;5;124m\"\u001b[39m]\u001b[38;5;241m.\u001b[39mappend(encoded)\n\u001b[0;32m     90\u001b[0m         device\u001b[38;5;241m.\u001b[39mactions \u001b[38;5;241m=\u001b[39m []\n\u001b[1;32m---> 91\u001b[0m \u001b[38;5;28;43mself\u001b[39;49m\u001b[38;5;241;43m.\u001b[39;49m\u001b[43mdriver\u001b[49m\u001b[38;5;241;43m.\u001b[39;49m\u001b[43mexecute\u001b[49m\u001b[43m(\u001b[49m\u001b[43mCommand\u001b[49m\u001b[38;5;241;43m.\u001b[39;49m\u001b[43mW3C_ACTIONS\u001b[49m\u001b[43m,\u001b[49m\u001b[43m \u001b[49m\u001b[43menc\u001b[49m\u001b[43m)\u001b[49m\n",
      "File \u001b[1;32mc:\\Users\\Kripal\\Desktop\\testing\\myenv\\lib\\site-packages\\selenium\\webdriver\\remote\\webdriver.py:440\u001b[0m, in \u001b[0;36mWebDriver.execute\u001b[1;34m(self, driver_command, params)\u001b[0m\n\u001b[0;32m    438\u001b[0m response \u001b[38;5;241m=\u001b[39m \u001b[38;5;28mself\u001b[39m\u001b[38;5;241m.\u001b[39mcommand_executor\u001b[38;5;241m.\u001b[39mexecute(driver_command, params)\n\u001b[0;32m    439\u001b[0m \u001b[38;5;28;01mif\u001b[39;00m response:\n\u001b[1;32m--> 440\u001b[0m     \u001b[38;5;28;43mself\u001b[39;49m\u001b[38;5;241;43m.\u001b[39;49m\u001b[43merror_handler\u001b[49m\u001b[38;5;241;43m.\u001b[39;49m\u001b[43mcheck_response\u001b[49m\u001b[43m(\u001b[49m\u001b[43mresponse\u001b[49m\u001b[43m)\u001b[49m\n\u001b[0;32m    441\u001b[0m     response[\u001b[38;5;124m\"\u001b[39m\u001b[38;5;124mvalue\u001b[39m\u001b[38;5;124m\"\u001b[39m] \u001b[38;5;241m=\u001b[39m \u001b[38;5;28mself\u001b[39m\u001b[38;5;241m.\u001b[39m_unwrap_value(response\u001b[38;5;241m.\u001b[39mget(\u001b[38;5;124m\"\u001b[39m\u001b[38;5;124mvalue\u001b[39m\u001b[38;5;124m\"\u001b[39m, \u001b[38;5;28;01mNone\u001b[39;00m))\n\u001b[0;32m    442\u001b[0m     \u001b[38;5;28;01mreturn\u001b[39;00m response\n",
      "File \u001b[1;32mc:\\Users\\Kripal\\Desktop\\testing\\myenv\\lib\\site-packages\\selenium\\webdriver\\remote\\errorhandler.py:245\u001b[0m, in \u001b[0;36mErrorHandler.check_response\u001b[1;34m(self, response)\u001b[0m\n\u001b[0;32m    243\u001b[0m         alert_text \u001b[38;5;241m=\u001b[39m value[\u001b[38;5;124m\"\u001b[39m\u001b[38;5;124malert\u001b[39m\u001b[38;5;124m\"\u001b[39m]\u001b[38;5;241m.\u001b[39mget(\u001b[38;5;124m\"\u001b[39m\u001b[38;5;124mtext\u001b[39m\u001b[38;5;124m\"\u001b[39m)\n\u001b[0;32m    244\u001b[0m     \u001b[38;5;28;01mraise\u001b[39;00m exception_class(message, screen, stacktrace, alert_text)  \u001b[38;5;66;03m# type: ignore[call-arg]  # mypy is not smart enough here\u001b[39;00m\n\u001b[1;32m--> 245\u001b[0m \u001b[38;5;28;01mraise\u001b[39;00m exception_class(message, screen, stacktrace)\n",
      "\u001b[1;31mElementNotInteractableException\u001b[0m: Message: element not interactable: [object HTMLButtonElement] has no size and location\n  (Session info: chrome=122.0.6261.95)\nStacktrace:\n\tGetHandleVerifier [0x01098C93+51395]\n\t(No symbol) [0x01005EF1]\n\t(No symbol) [0x00EBE13A]\n\t(No symbol) [0x00EC2480]\n\t(No symbol) [0x00EC3E69]\n\t(No symbol) [0x00EC3F00]\n\t(No symbol) [0x00EFB0F6]\n\t(No symbol) [0x00EFA827]\n\t(No symbol) [0x00F30642]\n\t(No symbol) [0x00F13E8C]\n\t(No symbol) [0x00F2A570]\n\t(No symbol) [0x00F13C26]\n\t(No symbol) [0x00EEC629]\n\t(No symbol) [0x00EED40D]\n\tGetHandleVerifier [0x01416453+3711107]\n\tGetHandleVerifier [0x0145583A+3970154]\n\tGetHandleVerifier [0x01450B28+3950424]\n\tGetHandleVerifier [0x01149C99+776393]\n\t(No symbol) [0x010116C4]\n\t(No symbol) [0x0100C5A8]\n\t(No symbol) [0x0100C759]\n\t(No symbol) [0x00FFDD80]\n\tBaseThreadInitThunk [0x759DFCC9+25]\n\tRtlGetAppContainerNamedObjectPath [0x77147C5E+286]\n\tRtlGetAppContainerNamedObjectPath [0x77147C2E+238]\n"
     ]
    }
   ],
   "source": [
    "know_more_button = driver.find_elements(By.CLASS_NAME, \"MuiButtonBase-root.MuiButton-root.MuiButton-red.MuiButton-redPrimary.MuiButton-sizeMedium.MuiButton-redSizeMedium.MuiButton-root.MuiButton-red.MuiButton-redPrimary.MuiButton-sizeMedium.MuiButton-redSizeMedium.css-eou14m\")[1]\n",
    "actions = ActionChains(driver)\n",
    "actions.move_to_element(know_more_button).perform()\n",
    "time.sleep(10)"
   ]
  },
  {
   "cell_type": "code",
   "execution_count": 32,
   "metadata": {},
   "outputs": [
    {
     "name": "stdout",
     "output_type": "stream",
     "text": [
      "<a class=\"MuiButtonBase-root MuiButton-root MuiButton-red MuiButton-redPrimary MuiButton-sizeMedium MuiButton-redSizeMedium MuiButton-root MuiButton-red MuiButton-redPrimary MuiButton-sizeMedium MuiButton-redSizeMedium css-eou14m\" tabindex=\"0\" aria-label=\"CHOOSE THE RIGHT COURSE\" href=\"/course-recommendation\">CHOOSE THE RIGHT COURSE<span class=\"MuiTouchRipple-root css-w0pj6f\"></span></a>\n",
      "<button class=\"MuiButtonBase-root MuiButton-root MuiButton-red MuiButton-redPrimary MuiButton-sizeMedium MuiButton-redSizeMedium MuiButton-root MuiButton-red MuiButton-redPrimary MuiButton-sizeMedium MuiButton-redSizeMedium css-eou14m\" tabindex=\"0\" type=\"button\" aria-label=\"enroll now\" data-group-value=\"course-link\"><p class=\"MuiTypography-root MuiTypography-body2 css-u50q57\">Know More</p><img src=\"/icons/arrow-left.svg\" alt=\"arrow\" width=\"24\" height=\"24\" class=\"css-10t2rkz\"><span class=\"MuiTouchRipple-root css-w0pj6f\"></span></button>\n",
      "<button class=\"MuiButtonBase-root MuiButton-root MuiButton-red MuiButton-redPrimary MuiButton-sizeMedium MuiButton-redSizeMedium MuiButton-root MuiButton-red MuiButton-redPrimary MuiButton-sizeMedium MuiButton-redSizeMedium css-eou14m\" tabindex=\"0\" type=\"button\" aria-label=\"enroll now\" data-group-value=\"course-link\"><p class=\"MuiTypography-root MuiTypography-body2 css-u50q57\">Know More</p><img src=\"/icons/arrow-left.svg\" alt=\"arrow\" width=\"24\" height=\"24\" class=\"css-10t2rkz\"><span class=\"MuiTouchRipple-root css-w0pj6f\"></span></button>\n",
      "<button class=\"MuiButtonBase-root MuiButton-root MuiButton-red MuiButton-redPrimary MuiButton-sizeMedium MuiButton-redSizeMedium MuiButton-root MuiButton-red MuiButton-redPrimary MuiButton-sizeMedium MuiButton-redSizeMedium css-eou14m\" tabindex=\"0\" type=\"button\" aria-label=\"enroll now\" data-group-value=\"course-link\"><p class=\"MuiTypography-root MuiTypography-body2 css-u50q57\">Know More</p><img src=\"/icons/arrow-left.svg\" alt=\"arrow\" width=\"24\" height=\"24\" class=\"css-10t2rkz\"><span class=\"MuiTouchRipple-root css-w0pj6f\"></span></button>\n",
      "<button class=\"MuiButtonBase-root MuiButton-root MuiButton-red MuiButton-redPrimary MuiButton-sizeMedium MuiButton-redSizeMedium MuiButton-root MuiButton-red MuiButton-redPrimary MuiButton-sizeMedium MuiButton-redSizeMedium css-eou14m\" tabindex=\"0\" type=\"button\" aria-label=\"enroll now\" data-group-value=\"course-link\"><p class=\"MuiTypography-root MuiTypography-body2 css-u50q57\">Know More</p><img src=\"/icons/arrow-left.svg\" alt=\"arrow\" width=\"24\" height=\"24\" class=\"css-10t2rkz\"><span class=\"MuiTouchRipple-root css-w0pj6f\"></span></button>\n",
      "<button class=\"MuiButtonBase-root MuiButton-root MuiButton-red MuiButton-redPrimary MuiButton-sizeMedium MuiButton-redSizeMedium MuiButton-root MuiButton-red MuiButton-redPrimary MuiButton-sizeMedium MuiButton-redSizeMedium css-eou14m\" tabindex=\"0\" type=\"button\" aria-label=\"enroll now\" data-group-value=\"course-link\"><p class=\"MuiTypography-root MuiTypography-body2 css-u50q57\">Know More</p><img src=\"/icons/arrow-left.svg\" alt=\"arrow\" width=\"24\" height=\"24\" class=\"css-10t2rkz\"><span class=\"MuiTouchRipple-root css-w0pj6f\"></span></button>\n",
      "<button class=\"MuiButtonBase-root MuiButton-root MuiButton-red MuiButton-redPrimary MuiButton-sizeMedium MuiButton-redSizeMedium MuiButton-root MuiButton-red MuiButton-redPrimary MuiButton-sizeMedium MuiButton-redSizeMedium css-eou14m\" tabindex=\"0\" type=\"button\" aria-label=\"enroll now\" data-group-value=\"course-link\"><p class=\"MuiTypography-root MuiTypography-body2 css-u50q57\">Know More</p><img src=\"/icons/arrow-left.svg\" alt=\"arrow\" width=\"24\" height=\"24\" class=\"css-10t2rkz\"><span class=\"MuiTouchRipple-root css-w0pj6f\"></span></button>\n",
      "<button class=\"MuiButtonBase-root MuiButton-root MuiButton-red MuiButton-redPrimary MuiButton-sizeMedium MuiButton-redSizeMedium MuiButton-root MuiButton-red MuiButton-redPrimary MuiButton-sizeMedium MuiButton-redSizeMedium css-eou14m\" tabindex=\"0\" type=\"button\" aria-label=\"enroll now\" data-group-value=\"course-link\"><p class=\"MuiTypography-root MuiTypography-body2 css-u50q57\">Know More</p><img src=\"/icons/arrow-left.svg\" alt=\"arrow\" width=\"24\" height=\"24\" class=\"css-10t2rkz\"><span class=\"MuiTouchRipple-root css-w0pj6f\"></span></button>\n",
      "<button class=\"MuiButtonBase-root MuiButton-root MuiButton-red MuiButton-redPrimary MuiButton-sizeMedium MuiButton-redSizeMedium MuiButton-root MuiButton-red MuiButton-redPrimary MuiButton-sizeMedium MuiButton-redSizeMedium css-eou14m\" tabindex=\"0\" type=\"button\" aria-label=\"enroll now\" data-group-value=\"course-link\"><p class=\"MuiTypography-root MuiTypography-body2 css-u50q57\">Know More</p><img src=\"/icons/arrow-left.svg\" alt=\"arrow\" width=\"24\" height=\"24\" class=\"css-10t2rkz\"><span class=\"MuiTouchRipple-root css-w0pj6f\"></span></button>\n",
      "<button class=\"MuiButtonBase-root MuiButton-root MuiButton-red MuiButton-redPrimary MuiButton-sizeMedium MuiButton-redSizeMedium MuiButton-root MuiButton-red MuiButton-redPrimary MuiButton-sizeMedium MuiButton-redSizeMedium css-eou14m\" tabindex=\"0\" type=\"button\" aria-label=\"enroll now\" data-group-value=\"course-link\"><p class=\"MuiTypography-root MuiTypography-body2 css-u50q57\">Know More</p><img src=\"/icons/arrow-left.svg\" alt=\"arrow\" width=\"24\" height=\"24\" class=\"css-10t2rkz\"><span class=\"MuiTouchRipple-root css-w0pj6f\"></span></button>\n"
     ]
    }
   ],
   "source": [
    "for x in driver.find_elements(By.CLASS_NAME, \"MuiButtonBase-root.MuiButton-root.MuiButton-red.MuiButton-redPrimary.MuiButton-sizeMedium.MuiButton-redSizeMedium.MuiButton-root.MuiButton-red.MuiButton-redPrimary.MuiButton-sizeMedium.MuiButton-redSizeMedium.css-eou14m\"):\n",
    "    print(x.get_attribute('outerHTML'))"
   ]
  },
  {
   "cell_type": "code",
   "execution_count": 57,
   "metadata": {},
   "outputs": [
    {
     "data": {
      "text/plain": [
       "'MuiButtonBase-root MuiButton-root MuiButton-red MuiButton-redPrimary MuiButton-sizeMedium MuiButton-redSizeMedium MuiButton-root MuiButton-red MuiButton-redPrimary MuiButton-sizeMedium MuiButton-redSizeMedium css-eou14m'"
      ]
     },
     "execution_count": 57,
     "metadata": {},
     "output_type": "execute_result"
    }
   ],
   "source": [
    "driver.find_elements(By.CLASS_NAME, \"MuiButtonBase-root.MuiButton-root.MuiButton-red.MuiButton-redPrimary.MuiButton-sizeMedium.MuiButton-redSizeMedium.MuiButton-root.MuiButton-red.MuiButton-redPrimary.MuiButton-sizeMedium.MuiButton-redSizeMedium.css-eou14m\")[0].get_attribute('class')"
   ]
  },
  {
   "cell_type": "code",
   "execution_count": 43,
   "metadata": {},
   "outputs": [
    {
     "ename": "NoSuchElementException",
     "evalue": "Message: no such element: Unable to locate element: {\"method\":\"xpath\",\"selector\":\"//*[@id=\"EarlyCareerCourses\"]/div/div/div/div/div/div[3]/div[1]/div[1]/div/div[2]/div[2]/div[5]/button\"}\n  (Session info: chrome=122.0.6261.95)\nStacktrace:\n\tGetHandleVerifier [0x00DC8C93+51395]\n\t(No symbol) [0x00D35EF1]\n\t(No symbol) [0x00BEE13A]\n\t(No symbol) [0x00C262BB]\n\t(No symbol) [0x00C263EB]\n\t(No symbol) [0x00C5C162]\n\t(No symbol) [0x00C43ED4]\n\t(No symbol) [0x00C5A570]\n\t(No symbol) [0x00C43C26]\n\t(No symbol) [0x00C1C629]\n\t(No symbol) [0x00C1D40D]\n\tGetHandleVerifier [0x01146453+3711107]\n\tGetHandleVerifier [0x0118583A+3970154]\n\tGetHandleVerifier [0x01180B28+3950424]\n\tGetHandleVerifier [0x00E79C99+776393]\n\t(No symbol) [0x00D416C4]\n\t(No symbol) [0x00D3C5A8]\n\t(No symbol) [0x00D3C759]\n\t(No symbol) [0x00D2DD80]\n\tBaseThreadInitThunk [0x759DFCC9+25]\n\tRtlGetAppContainerNamedObjectPath [0x77147C5E+286]\n\tRtlGetAppContainerNamedObjectPath [0x77147C2E+238]\n",
     "output_type": "error",
     "traceback": [
      "\u001b[1;31m---------------------------------------------------------------------------\u001b[0m",
      "\u001b[1;31mNoSuchElementException\u001b[0m                    Traceback (most recent call last)",
      "Cell \u001b[1;32mIn[43], line 7\u001b[0m\n\u001b[0;32m      2\u001b[0m driver\u001b[38;5;241m.\u001b[39mfind_element(By\u001b[38;5;241m.\u001b[39mCLASS_NAME, \u001b[38;5;124m\"\u001b[39m\u001b[38;5;124mcss-sjojax\u001b[39m\u001b[38;5;124m\"\u001b[39m)\n\u001b[0;32m      3\u001b[0m \u001b[38;5;66;03m# actions = ActionChains(driver)\u001b[39;00m\n\u001b[0;32m      4\u001b[0m \u001b[38;5;66;03m# actions.move_to_element(stage2[p]).perform()\u001b[39;00m\n\u001b[0;32m      5\u001b[0m \u001b[38;5;66;03m# time.sleep(10)\u001b[39;00m\n\u001b[1;32m----> 7\u001b[0m \u001b[43mdriver\u001b[49m\u001b[38;5;241;43m.\u001b[39;49m\u001b[43mfind_element\u001b[49m\u001b[43m(\u001b[49m\u001b[43mBy\u001b[49m\u001b[38;5;241;43m.\u001b[39;49m\u001b[43mXPATH\u001b[49m\u001b[43m,\u001b[49m\u001b[43m \u001b[49m\u001b[38;5;124;43m'\u001b[39;49m\u001b[38;5;124;43m//*[@id=\u001b[39;49m\u001b[38;5;124;43m\"\u001b[39;49m\u001b[38;5;124;43mEarlyCareerCourses\u001b[39;49m\u001b[38;5;124;43m\"\u001b[39;49m\u001b[38;5;124;43m]/div/div/div/div/div/div[3]/div[1]/div[1]/div/div[2]/div[2]/div[5]/button\u001b[39;49m\u001b[38;5;124;43m'\u001b[39;49m\u001b[43m)\u001b[49m\n\u001b[0;32m      9\u001b[0m     \u001b[38;5;66;03m# Wait for the \"Know More\" button to be clickable\u001b[39;00m\n\u001b[0;32m     10\u001b[0m \u001b[38;5;66;03m# know_more_button = WebDriverWait(driver, 10).until(\u001b[39;00m\n\u001b[0;32m     11\u001b[0m \u001b[38;5;66;03m#     EC.element_to_be_clickable((By.XPATH, '//*[@id=\"EarlyCareerCourses\"]/div/div/div/div/div/div[3]/div[1]/div[1]/div/div[2]/div[2]/div[5]/button'))\u001b[39;00m\n\u001b[1;32m   (...)\u001b[0m\n\u001b[0;32m     14\u001b[0m \u001b[38;5;66;03m# # Click the \"Know More\" button using JavaScript\u001b[39;00m\n\u001b[0;32m     15\u001b[0m \u001b[38;5;66;03m# driver.execute_script(\"arguments[0].click();\", know_more_button)\u001b[39;00m\n",
      "File \u001b[1;32mc:\\Users\\Kripal\\Desktop\\testing\\myenv\\lib\\site-packages\\selenium\\webdriver\\remote\\webdriver.py:831\u001b[0m, in \u001b[0;36mWebDriver.find_element\u001b[1;34m(self, by, value)\u001b[0m\n\u001b[0;32m    828\u001b[0m     by \u001b[38;5;241m=\u001b[39m By\u001b[38;5;241m.\u001b[39mCSS_SELECTOR\n\u001b[0;32m    829\u001b[0m     value \u001b[38;5;241m=\u001b[39m \u001b[38;5;124mf\u001b[39m\u001b[38;5;124m'\u001b[39m\u001b[38;5;124m[name=\u001b[39m\u001b[38;5;124m\"\u001b[39m\u001b[38;5;132;01m{\u001b[39;00mvalue\u001b[38;5;132;01m}\u001b[39;00m\u001b[38;5;124m\"\u001b[39m\u001b[38;5;124m]\u001b[39m\u001b[38;5;124m'\u001b[39m\n\u001b[1;32m--> 831\u001b[0m \u001b[38;5;28;01mreturn\u001b[39;00m \u001b[38;5;28;43mself\u001b[39;49m\u001b[38;5;241;43m.\u001b[39;49m\u001b[43mexecute\u001b[49m\u001b[43m(\u001b[49m\u001b[43mCommand\u001b[49m\u001b[38;5;241;43m.\u001b[39;49m\u001b[43mFIND_ELEMENT\u001b[49m\u001b[43m,\u001b[49m\u001b[43m \u001b[49m\u001b[43m{\u001b[49m\u001b[38;5;124;43m\"\u001b[39;49m\u001b[38;5;124;43musing\u001b[39;49m\u001b[38;5;124;43m\"\u001b[39;49m\u001b[43m:\u001b[49m\u001b[43m \u001b[49m\u001b[43mby\u001b[49m\u001b[43m,\u001b[49m\u001b[43m \u001b[49m\u001b[38;5;124;43m\"\u001b[39;49m\u001b[38;5;124;43mvalue\u001b[39;49m\u001b[38;5;124;43m\"\u001b[39;49m\u001b[43m:\u001b[49m\u001b[43m \u001b[49m\u001b[43mvalue\u001b[49m\u001b[43m}\u001b[49m\u001b[43m)\u001b[49m[\u001b[38;5;124m\"\u001b[39m\u001b[38;5;124mvalue\u001b[39m\u001b[38;5;124m\"\u001b[39m]\n",
      "File \u001b[1;32mc:\\Users\\Kripal\\Desktop\\testing\\myenv\\lib\\site-packages\\selenium\\webdriver\\remote\\webdriver.py:440\u001b[0m, in \u001b[0;36mWebDriver.execute\u001b[1;34m(self, driver_command, params)\u001b[0m\n\u001b[0;32m    438\u001b[0m response \u001b[38;5;241m=\u001b[39m \u001b[38;5;28mself\u001b[39m\u001b[38;5;241m.\u001b[39mcommand_executor\u001b[38;5;241m.\u001b[39mexecute(driver_command, params)\n\u001b[0;32m    439\u001b[0m \u001b[38;5;28;01mif\u001b[39;00m response:\n\u001b[1;32m--> 440\u001b[0m     \u001b[38;5;28;43mself\u001b[39;49m\u001b[38;5;241;43m.\u001b[39;49m\u001b[43merror_handler\u001b[49m\u001b[38;5;241;43m.\u001b[39;49m\u001b[43mcheck_response\u001b[49m\u001b[43m(\u001b[49m\u001b[43mresponse\u001b[49m\u001b[43m)\u001b[49m\n\u001b[0;32m    441\u001b[0m     response[\u001b[38;5;124m\"\u001b[39m\u001b[38;5;124mvalue\u001b[39m\u001b[38;5;124m\"\u001b[39m] \u001b[38;5;241m=\u001b[39m \u001b[38;5;28mself\u001b[39m\u001b[38;5;241m.\u001b[39m_unwrap_value(response\u001b[38;5;241m.\u001b[39mget(\u001b[38;5;124m\"\u001b[39m\u001b[38;5;124mvalue\u001b[39m\u001b[38;5;124m\"\u001b[39m, \u001b[38;5;28;01mNone\u001b[39;00m))\n\u001b[0;32m    442\u001b[0m     \u001b[38;5;28;01mreturn\u001b[39;00m response\n",
      "File \u001b[1;32mc:\\Users\\Kripal\\Desktop\\testing\\myenv\\lib\\site-packages\\selenium\\webdriver\\remote\\errorhandler.py:245\u001b[0m, in \u001b[0;36mErrorHandler.check_response\u001b[1;34m(self, response)\u001b[0m\n\u001b[0;32m    243\u001b[0m         alert_text \u001b[38;5;241m=\u001b[39m value[\u001b[38;5;124m\"\u001b[39m\u001b[38;5;124malert\u001b[39m\u001b[38;5;124m\"\u001b[39m]\u001b[38;5;241m.\u001b[39mget(\u001b[38;5;124m\"\u001b[39m\u001b[38;5;124mtext\u001b[39m\u001b[38;5;124m\"\u001b[39m)\n\u001b[0;32m    244\u001b[0m     \u001b[38;5;28;01mraise\u001b[39;00m exception_class(message, screen, stacktrace, alert_text)  \u001b[38;5;66;03m# type: ignore[call-arg]  # mypy is not smart enough here\u001b[39;00m\n\u001b[1;32m--> 245\u001b[0m \u001b[38;5;28;01mraise\u001b[39;00m exception_class(message, screen, stacktrace)\n",
      "\u001b[1;31mNoSuchElementException\u001b[0m: Message: no such element: Unable to locate element: {\"method\":\"xpath\",\"selector\":\"//*[@id=\"EarlyCareerCourses\"]/div/div/div/div/div/div[3]/div[1]/div[1]/div/div[2]/div[2]/div[5]/button\"}\n  (Session info: chrome=122.0.6261.95)\nStacktrace:\n\tGetHandleVerifier [0x00DC8C93+51395]\n\t(No symbol) [0x00D35EF1]\n\t(No symbol) [0x00BEE13A]\n\t(No symbol) [0x00C262BB]\n\t(No symbol) [0x00C263EB]\n\t(No symbol) [0x00C5C162]\n\t(No symbol) [0x00C43ED4]\n\t(No symbol) [0x00C5A570]\n\t(No symbol) [0x00C43C26]\n\t(No symbol) [0x00C1C629]\n\t(No symbol) [0x00C1D40D]\n\tGetHandleVerifier [0x01146453+3711107]\n\tGetHandleVerifier [0x0118583A+3970154]\n\tGetHandleVerifier [0x01180B28+3950424]\n\tGetHandleVerifier [0x00E79C99+776393]\n\t(No symbol) [0x00D416C4]\n\t(No symbol) [0x00D3C5A8]\n\t(No symbol) [0x00D3C759]\n\t(No symbol) [0x00D2DD80]\n\tBaseThreadInitThunk [0x759DFCC9+25]\n\tRtlGetAppContainerNamedObjectPath [0x77147C5E+286]\n\tRtlGetAppContainerNamedObjectPath [0x77147C2E+238]\n"
     ]
    }
   ],
   "source": [
    "# driver.find_elements(By.CLASS_NAME, \"MuiButtonBase-root.MuiButton-root.MuiButton-red.MuiButton-redPrimary.MuiButton-sizeMedium.MuiButton-redSizeMedium.MuiButton-root.MuiButton-red.MuiButton-redPrimary.MuiButton-sizeMedium.MuiButton-redSizeMedium.css-eou14m\")[1].click()\n",
    "driver.find_element(By.CLASS_NAME, \"css-sjojax\")\n",
    "# actions = ActionChains(driver)\n",
    "# actions.move_to_element(stage2[p]).perform()\n",
    "# time.sleep(10)\n",
    "\n",
    "driver.find_element(By.XPATH, '//*[@id=\"EarlyCareerCourses\"]/div/div/div/div/div/div[3]/div[1]/div[1]/div/div[2]/div[2]/div[5]/button')\n",
    "\n",
    "    # Wait for the \"Know More\" button to be clickable\n",
    "# know_more_button = WebDriverWait(driver, 10).until(\n",
    "#     EC.element_to_be_clickable((By.XPATH, '//*[@id=\"EarlyCareerCourses\"]/div/div/div/div/div/div[3]/div[1]/div[1]/div/div[2]/div[2]/div[5]/button'))\n",
    "# )\n",
    "\n",
    "# # Click the \"Know More\" button using JavaScript\n",
    "# driver.execute_script(\"arguments[0].click();\", know_more_button)"
   ]
  },
  {
   "cell_type": "code",
   "execution_count": null,
   "metadata": {},
   "outputs": [],
   "source": []
  }
 ],
 "metadata": {
  "kernelspec": {
   "display_name": "myenv",
   "language": "python",
   "name": "python3"
  },
  "language_info": {
   "codemirror_mode": {
    "name": "ipython",
    "version": 3
   },
   "file_extension": ".py",
   "mimetype": "text/x-python",
   "name": "python",
   "nbconvert_exporter": "python",
   "pygments_lexer": "ipython3",
   "version": "3.8.10"
  }
 },
 "nbformat": 4,
 "nbformat_minor": 2
}
