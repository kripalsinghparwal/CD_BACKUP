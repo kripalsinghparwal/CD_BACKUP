{
 "cells": [
  {
   "cell_type": "code",
   "execution_count": 43,
   "metadata": {},
   "outputs": [],
   "source": [
    "from selenium import webdriver\n",
    "from selenium.webdriver.chrome.options import Options\n",
    "from selenium.webdriver.support.wait import WebDriverWait\n",
    "from selenium.webdriver.common.by import By\n",
    "from selenium.webdriver.support import expected_conditions as EC\n",
    "import time\n",
    "from selenium.webdriver import ActionChains, Keys\n",
    "from bs4 import BeautifulSoup as bs\n",
    "import pandas as pd\n",
    "from webdriver_manager.chrome import ChromeDriverManager\n",
    "from selenium.webdriver.common.action_chains import ActionChains\n",
    "\n",
    "\n",
    "driver = webdriver.Chrome()\n",
    "driver.get('https://www.jaroeducation.com/')\n",
    "time.sleep(2)\n",
    "driver.maximize_window()\n",
    "time.sleep(2)\n"
   ]
  },
  {
   "cell_type": "code",
   "execution_count": 44,
   "metadata": {},
   "outputs": [
    {
     "name": "stdout",
     "output_type": "stream",
     "text": [
      "Message: element not interactable\n",
      "  (Session info: chrome=123.0.6312.86)\n",
      "Stacktrace:\n",
      "\tGetHandleVerifier [0x00007FF67E3370C2+63090]\n",
      "\t(No symbol) [0x00007FF67E2A2D12]\n",
      "\t(No symbol) [0x00007FF67E13EB1D]\n",
      "\t(No symbol) [0x00007FF67E185D56]\n",
      "\t(No symbol) [0x00007FF67E17A708]\n",
      "\t(No symbol) [0x00007FF67E1A6FDA]\n",
      "\t(No symbol) [0x00007FF67E17A00A]\n",
      "\t(No symbol) [0x00007FF67E1A71F0]\n",
      "\t(No symbol) [0x00007FF67E1C3412]\n",
      "\t(No symbol) [0x00007FF67E1A6D83]\n",
      "\t(No symbol) [0x00007FF67E1783A8]\n",
      "\t(No symbol) [0x00007FF67E179441]\n",
      "\tGetHandleVerifier [0x00007FF67E73262D+4238301]\n",
      "\tGetHandleVerifier [0x00007FF67E76F78D+4488509]\n",
      "\tGetHandleVerifier [0x00007FF67E767A6F+4456479]\n",
      "\tGetHandleVerifier [0x00007FF67E410606+953270]\n",
      "\t(No symbol) [0x00007FF67E2AE5DF]\n",
      "\t(No symbol) [0x00007FF67E2A92B4]\n",
      "\t(No symbol) [0x00007FF67E2A93EB]\n",
      "\t(No symbol) [0x00007FF67E299C24]\n",
      "\tBaseThreadInitThunk [0x00007FF947D27344+20]\n",
      "\tRtlUserThreadStart [0x00007FF949BA26B1+33]\n",
      "\n",
      "Button disappeared.\n"
     ]
    }
   ],
   "source": [
    "try:\n",
    "    while True:\n",
    "        button  = driver.find_element(By.CLASS_NAME, \"pp-button-icon.fa.fa-arrow-circle-down\")\n",
    "        time.sleep(10)\n",
    "        driver.execute_script(\"arguments[0].scrollIntoView();\", button)\n",
    "        time.sleep(5)\n",
    "        button.click()\n",
    "        time.sleep(20)\n",
    "        \n",
    "except Exception as e:\n",
    "    print(e)\n",
    "    print(\"Button disappeared.\")\n",
    "    # driver.quit()"
   ]
  },
  {
   "cell_type": "code",
   "execution_count": 36,
   "metadata": {},
   "outputs": [
    {
     "ename": "NoSuchWindowException",
     "evalue": "Message: no such window: target window already closed\nfrom unknown error: web view not found\n  (Session info: chrome=123.0.6312.86)\nStacktrace:\n\tGetHandleVerifier [0x00007FF67E3370C2+63090]\n\t(No symbol) [0x00007FF67E2A2D12]\n\t(No symbol) [0x00007FF67E13EC65]\n\t(No symbol) [0x00007FF67E11CA7C]\n\t(No symbol) [0x00007FF67E1AD687]\n\t(No symbol) [0x00007FF67E1C2AC1]\n\t(No symbol) [0x00007FF67E1A6D83]\n\t(No symbol) [0x00007FF67E1783A8]\n\t(No symbol) [0x00007FF67E179441]\n\tGetHandleVerifier [0x00007FF67E73262D+4238301]\n\tGetHandleVerifier [0x00007FF67E76F78D+4488509]\n\tGetHandleVerifier [0x00007FF67E767A6F+4456479]\n\tGetHandleVerifier [0x00007FF67E410606+953270]\n\t(No symbol) [0x00007FF67E2AE5DF]\n\t(No symbol) [0x00007FF67E2A92B4]\n\t(No symbol) [0x00007FF67E2A93EB]\n\t(No symbol) [0x00007FF67E299C24]\n\tBaseThreadInitThunk [0x00007FF947D27344+20]\n\tRtlUserThreadStart [0x00007FF949BA26B1+33]\n",
     "output_type": "error",
     "traceback": [
      "\u001b[1;31m---------------------------------------------------------------------------\u001b[0m",
      "\u001b[1;31mNoSuchWindowException\u001b[0m                     Traceback (most recent call last)",
      "Cell \u001b[1;32mIn[36], line 1\u001b[0m\n\u001b[1;32m----> 1\u001b[0m soup \u001b[38;5;241m=\u001b[39m bs(\u001b[43mdriver\u001b[49m\u001b[38;5;241;43m.\u001b[39;49m\u001b[43mpage_source\u001b[49m, \u001b[38;5;124m'\u001b[39m\u001b[38;5;124mhtml.parser\u001b[39m\u001b[38;5;124m'\u001b[39m)\n",
      "File \u001b[1;32mc:\\Users\\Kripal\\AppData\\Local\\Programs\\Python\\Python310\\lib\\site-packages\\selenium\\webdriver\\remote\\webdriver.py:448\u001b[0m, in \u001b[0;36mWebDriver.page_source\u001b[1;34m(self)\u001b[0m\n\u001b[0;32m    439\u001b[0m \u001b[38;5;129m@property\u001b[39m\n\u001b[0;32m    440\u001b[0m \u001b[38;5;28;01mdef\u001b[39;00m \u001b[38;5;21mpage_source\u001b[39m(\u001b[38;5;28mself\u001b[39m) \u001b[38;5;241m-\u001b[39m\u001b[38;5;241m>\u001b[39m \u001b[38;5;28mstr\u001b[39m:\n\u001b[0;32m    441\u001b[0m \u001b[38;5;250m    \u001b[39m\u001b[38;5;124;03m\"\"\"Gets the source of the current page.\u001b[39;00m\n\u001b[0;32m    442\u001b[0m \n\u001b[0;32m    443\u001b[0m \u001b[38;5;124;03m    :Usage:\u001b[39;00m\n\u001b[1;32m   (...)\u001b[0m\n\u001b[0;32m    446\u001b[0m \u001b[38;5;124;03m            driver.page_source\u001b[39;00m\n\u001b[0;32m    447\u001b[0m \u001b[38;5;124;03m    \"\"\"\u001b[39;00m\n\u001b[1;32m--> 448\u001b[0m     \u001b[38;5;28;01mreturn\u001b[39;00m \u001b[38;5;28;43mself\u001b[39;49m\u001b[38;5;241;43m.\u001b[39;49m\u001b[43mexecute\u001b[49m\u001b[43m(\u001b[49m\u001b[43mCommand\u001b[49m\u001b[38;5;241;43m.\u001b[39;49m\u001b[43mGET_PAGE_SOURCE\u001b[49m\u001b[43m)\u001b[49m[\u001b[38;5;124m\"\u001b[39m\u001b[38;5;124mvalue\u001b[39m\u001b[38;5;124m\"\u001b[39m]\n",
      "File \u001b[1;32mc:\\Users\\Kripal\\AppData\\Local\\Programs\\Python\\Python310\\lib\\site-packages\\selenium\\webdriver\\remote\\webdriver.py:347\u001b[0m, in \u001b[0;36mWebDriver.execute\u001b[1;34m(self, driver_command, params)\u001b[0m\n\u001b[0;32m    345\u001b[0m response \u001b[38;5;241m=\u001b[39m \u001b[38;5;28mself\u001b[39m\u001b[38;5;241m.\u001b[39mcommand_executor\u001b[38;5;241m.\u001b[39mexecute(driver_command, params)\n\u001b[0;32m    346\u001b[0m \u001b[38;5;28;01mif\u001b[39;00m response:\n\u001b[1;32m--> 347\u001b[0m     \u001b[38;5;28;43mself\u001b[39;49m\u001b[38;5;241;43m.\u001b[39;49m\u001b[43merror_handler\u001b[49m\u001b[38;5;241;43m.\u001b[39;49m\u001b[43mcheck_response\u001b[49m\u001b[43m(\u001b[49m\u001b[43mresponse\u001b[49m\u001b[43m)\u001b[49m\n\u001b[0;32m    348\u001b[0m     response[\u001b[38;5;124m\"\u001b[39m\u001b[38;5;124mvalue\u001b[39m\u001b[38;5;124m\"\u001b[39m] \u001b[38;5;241m=\u001b[39m \u001b[38;5;28mself\u001b[39m\u001b[38;5;241m.\u001b[39m_unwrap_value(response\u001b[38;5;241m.\u001b[39mget(\u001b[38;5;124m\"\u001b[39m\u001b[38;5;124mvalue\u001b[39m\u001b[38;5;124m\"\u001b[39m, \u001b[38;5;28;01mNone\u001b[39;00m))\n\u001b[0;32m    349\u001b[0m     \u001b[38;5;28;01mreturn\u001b[39;00m response\n",
      "File \u001b[1;32mc:\\Users\\Kripal\\AppData\\Local\\Programs\\Python\\Python310\\lib\\site-packages\\selenium\\webdriver\\remote\\errorhandler.py:229\u001b[0m, in \u001b[0;36mErrorHandler.check_response\u001b[1;34m(self, response)\u001b[0m\n\u001b[0;32m    227\u001b[0m         alert_text \u001b[38;5;241m=\u001b[39m value[\u001b[38;5;124m\"\u001b[39m\u001b[38;5;124malert\u001b[39m\u001b[38;5;124m\"\u001b[39m]\u001b[38;5;241m.\u001b[39mget(\u001b[38;5;124m\"\u001b[39m\u001b[38;5;124mtext\u001b[39m\u001b[38;5;124m\"\u001b[39m)\n\u001b[0;32m    228\u001b[0m     \u001b[38;5;28;01mraise\u001b[39;00m exception_class(message, screen, stacktrace, alert_text)  \u001b[38;5;66;03m# type: ignore[call-arg]  # mypy is not smart enough here\u001b[39;00m\n\u001b[1;32m--> 229\u001b[0m \u001b[38;5;28;01mraise\u001b[39;00m exception_class(message, screen, stacktrace)\n",
      "\u001b[1;31mNoSuchWindowException\u001b[0m: Message: no such window: target window already closed\nfrom unknown error: web view not found\n  (Session info: chrome=123.0.6312.86)\nStacktrace:\n\tGetHandleVerifier [0x00007FF67E3370C2+63090]\n\t(No symbol) [0x00007FF67E2A2D12]\n\t(No symbol) [0x00007FF67E13EC65]\n\t(No symbol) [0x00007FF67E11CA7C]\n\t(No symbol) [0x00007FF67E1AD687]\n\t(No symbol) [0x00007FF67E1C2AC1]\n\t(No symbol) [0x00007FF67E1A6D83]\n\t(No symbol) [0x00007FF67E1783A8]\n\t(No symbol) [0x00007FF67E179441]\n\tGetHandleVerifier [0x00007FF67E73262D+4238301]\n\tGetHandleVerifier [0x00007FF67E76F78D+4488509]\n\tGetHandleVerifier [0x00007FF67E767A6F+4456479]\n\tGetHandleVerifier [0x00007FF67E410606+953270]\n\t(No symbol) [0x00007FF67E2AE5DF]\n\t(No symbol) [0x00007FF67E2A92B4]\n\t(No symbol) [0x00007FF67E2A93EB]\n\t(No symbol) [0x00007FF67E299C24]\n\tBaseThreadInitThunk [0x00007FF947D27344+20]\n\tRtlUserThreadStart [0x00007FF949BA26B1+33]\n"
     ]
    }
   ],
   "source": [
    "soup = bs(driver.page_source, 'html.parser')"
   ]
  },
  {
   "cell_type": "code",
   "execution_count": 37,
   "metadata": {},
   "outputs": [],
   "source": [
    "post_divs = soup.findAll('div', class_=\"pp-post-wrap pp-grid-item-wrap\")"
   ]
  },
  {
   "cell_type": "code",
   "execution_count": 38,
   "metadata": {},
   "outputs": [
    {
     "name": "stdout",
     "output_type": "stream",
     "text": [
      ">>>\n",
      "Executive Certification in Advanced Data Science & Applications – IITM Pravartak Application Closure Date: Closing Soon\n",
      "https://www.jaroeducation.com/executive-certification-in-advanced-data-science-applications-iitm-pravartak/\n",
      ">>>\n",
      "Online BCA Programme – Manipal University Jaipur Application Closure Date: Closing Soon\n",
      "https://www.jaroeducation.com/online-bca-programme-manipal-university/\n",
      ">>>\n",
      "Chief Technology Officer Programme Offered by CEP – IIT Delhi Application Closure Date: 31st March 2024\n",
      "https://www.jaroeducation.com/chief-technology-officers-ctos-programme-cep-iit-delhi/\n",
      ">>>\n",
      "Executive Programme in Healthcare Entrepreneurship and Management (EPHEM) – IIT Delhi Application Closure Date: 31st March 2024\n",
      "https://www.jaroeducation.com/executive-programme-in-healthcare-entrepreneurship-and-management-ephem/\n",
      ">>>\n",
      "Executive Development Program in HR Analytics – XLRI Jamshedpur Application Closure Date: 21st April 2024\n",
      "https://www.jaroeducation.com/executive-development-program-in-hr-analytics-xlr-jamshedpur/\n",
      ">>>\n",
      "Executive Management Programme in Advanced Strategic Management – CEP, IIT Delhi Application Closure Date: 15th June 2024\n",
      "https://www.jaroeducation.com/executive-programme-in-advanced-strategic-management/\n",
      ">>>\n",
      "Certificate Programme in  Design Thinking & Innovation  for Business Excellence – IIM Indore Application Closure Date: 15th April  2024\n",
      "https://www.jaroeducation.com/certificate-programme-in-design-thinking-innovation-for-business-excellence-iim-indore/\n",
      ">>>\n",
      "PG Certificate Programme in Product & Brand Management – IIM Nagpur Application Closure Date: 5th May 2024\n",
      "https://www.jaroeducation.com/pg-certificate-programme-in-product-brand-management-iim-nagpur/\n",
      ">>>\n",
      "Online M.Sc. (Computer Applications) Symbiosis School for Online and Digital Learning (SSODL) Application Closure Date: Closing Soon\n",
      "https://www.jaroeducation.com/online-msc-computer-applications-symbiosis-school-for-online-and-digital-learning-ssodl/\n",
      ">>>\n",
      "Post Graduate Certificate Programme in Data Science for Business Excellence and Innovation – IIM Nagpur Application Closure Date: Closing Soon\n",
      "https://www.jaroeducation.com/data-science-online-course-iim-nagpur/\n",
      ">>>\n",
      "Executive Programme in Full Stack Web Development – IITM Pravartak Technology Innovation Hub of IIT Madras Application Closure Date: Coming Soon\n",
      "https://www.jaroeducation.com/executive-programme-in-full-stack-web-development-iitm-pravartak-technology-innovation-hub-of-iit-madras/\n",
      ">>>\n",
      "Professional Certificate Programme in Strategic Management – IIM Kozhikode Application Closure Date: Closing Soon\n",
      "https://www.jaroeducation.com/professional-certificate-programme-in-strategic-management-iim-kozhikode/\n",
      ">>>\n",
      "Advanced Programme in EV Technology – CEP, IIT Delhi Application Closure Date: 30th June 2024\n",
      "https://www.jaroeducation.com/advanced-programme-ev-technology-iit-delhi/\n",
      ">>>\n",
      "Professional Certificate Programme In Strategic Sales Management And New Age Marketing – IIM Kozhikode Application Closure Date: Closing Soon\n",
      "https://www.jaroeducation.com/professional-certificate-programme-in-strategic-sales-management-and-new-age-marketing-iim-kozhikode/\n",
      ">>>\n",
      "Corporate and Public Leadership in a VUCA World – IIM Indore Application Closure Date: 31st March 2024\n",
      "https://www.jaroeducation.com/corporate-and-public-leadership-in-a-vuca-world-iim-indore/\n",
      ">>>\n",
      "Post Graduate Certificate in Digital Marketing & Growth – IIM Visakhapatnam Application Closure Date: Closing Soon\n",
      "https://www.jaroeducation.com/pg-certificate-in-digital-marketing-growth-iim-visakhapatnam/\n",
      ">>>\n",
      "Doctor Of Business Administration (DBA) – Swiss School of Management Application Closure Date: Closing Soon\n",
      "https://www.jaroeducation.com/ssm-dba/\n",
      ">>>\n",
      "Online MBA – Dr. D. Y. Patil Vidyapeeth Application Closure Date: Closing Soon\n",
      "https://www.jaroeducation.com/online-mba-degree-program-dpu-col/\n",
      ">>>\n",
      "Post Graduate Certificate in Senior Management Programme  – IIM Tiruchirappalli Application Closure Date: Closing Soon\n",
      "https://www.jaroeducation.com/post-graduate-certificate-in-senior-management-programme-iim-tiruchirappalli/\n",
      ">>>\n",
      "Executive Certificate Programme in Corporate & Strategic Finance Application Closure Date: 30th April 2024\n",
      "https://www.jaroeducation.com/executive-certificate-program-in-corporate-strategic-finance-iim-mumbai/\n",
      ">>>\n",
      "Post Graduate Certification Programme in Business Analytics & Applications – IIM Tiruchirappalli Application Closure Date: Closing Soon\n",
      "https://www.jaroeducation.com/business-analytics-course-iim-trichy/\n",
      ">>>\n",
      "Executive Certificate Program in  Supply Chain Analytics and Management – IIM Mumbai (NITIE) Application Closure Date: Closed\n",
      "https://www.jaroeducation.com/executive-certificate-program-in-supply-chain-analytics-and-management-iim-mumbai-nitie/\n",
      ">>>\n",
      "Online Master of Computer Applications – Chandigarh University Application Closure Date: Closing Soon\n",
      "https://www.jaroeducation.com/online-master-of-computer-applications-chandigarh-university/\n",
      ">>>\n",
      "Online Master of Commerce – Chandigarh University Application Closure Date: Closing Soon\n",
      "https://www.jaroeducation.com/online-master-of-commerce-chandigarh-university/\n",
      ">>>\n",
      "Online Master of Business Administration – Chandigarh University Application Closure Date: Closing Soon\n",
      "https://www.jaroeducation.com/online-master-of-business-administration-chandigarh-university/\n",
      ">>>\n",
      "Online B.Sc. in Economics (Hons) Programme Symbiosis School for Online and Digital Learning (SSODL) Application Closure Date: Closing Soon\n",
      "https://www.jaroeducation.com/online-bsc-in-economics-hons-programme-symbiosis-school-for-online-and-digital-learning-ssodl/\n",
      ">>>\n",
      "Online Bachelor of Computer Applications (BCA) Symbiosis School for Online and Digital Learning (SSODL) Application Closure Date: Closing Soon\n",
      "https://www.jaroeducation.com/online-bca-degree-symbiosis-school-for-online-and-digital-learning-ssodl/\n",
      ">>>\n",
      "Online BBA Degree Programme-Symbiosis School for Online and Digital Learning (SSODL) Application Closure Date: Closing Soon\n",
      "https://www.jaroeducation.com/online-bba-degree-programme-symbiosis-school-for-online-and-digital-learning-ssodl/\n",
      ">>>\n",
      "Online Bachelor of Business Administration – Chandigarh University Application Closure Date: Closing Soon\n",
      "https://www.jaroeducation.com/online-bachelor-of-business-administration-chandigarh-university/\n",
      ">>>\n",
      "Online Master of Science (Economics) Symbiosis School for Online and Digital Learning (SSODL) Application Closure Date: Closing Soon\n",
      "https://www.jaroeducation.com/msc-economics-degree-school-for-online-and-digital-learning-ssodl/\n",
      ">>>\n",
      "Online Master of Science (Data Science) –  Symbiosis School for Online and Digital Learning (SSODL) Application Closure Date: Closing Soon\n",
      "https://www.jaroeducation.com/msc-data-science-degree-symbiosis-school-for-online-and-digital-learning-ssodl/\n",
      ">>>\n",
      "Online Master of Arts (Mass Communication)  Symbiosis School for Online and Digital Learning (SSODL) Application Closure Date: Closing Soon\n",
      "https://www.jaroeducation.com/ma-in-mass-communication-degree-symbiosis-school-for-online-and-digital-learning-ssodl/\n",
      ">>>\n",
      "Online B.Com – Manipal University, Jaipur Application Closure Date: Closing Soon\n",
      "https://www.jaroeducation.com/online-bcom-programme-manipal-university/\n",
      ">>>\n",
      "Online BBA – Manipal University, Jaipur Application Closure Date: Closing Soon\n",
      "https://www.jaroeducation.com/online-bba-programme-manipal-university/\n",
      ">>>\n",
      "Hybrid PGDM – WeSchool Application Closure Date: Closing Soon\n",
      "https://www.jaroeducation.com/hybrid-pgdm-welingkar-institute/\n",
      ">>>\n",
      "Online MBA Degree Programme – Symbiosis School For Online And Digital Learning (SSODL) Application Closure Date: Closing Soon\n",
      "https://www.jaroeducation.com/online-mba-degree-programme-symbiosis-school-for-online-and-digital-learning-ssodl/\n",
      ">>>\n",
      "Online PGDM Program – Loyola Institute of Business Administration (LIBA) Application Closure Date: Closing Soon\n",
      "https://www.jaroeducation.com/online-pgdm-program-loyola-institute-of-business-administration/\n",
      ">>>\n",
      "Online BBA Degree Program – Dr. D.Y. Patil Vidyapeeth Centre For Online Learning (DPU-COL) Application Closure Date: Closing Soon\n",
      "https://www.jaroeducation.com/online-bba-degree-program-dpu/\n",
      ">>>\n",
      "Online MCA Programme – Manipal University Jaipur Application Closure Date: Closing Soon\n",
      "https://www.jaroeducation.com/online-mca-programme-manipal-university/\n",
      ">>>\n",
      "Online MBA – Manipal University, Jaipur Application Closure Date: Closing Soon\n",
      "https://www.jaroeducation.com/online-mba-programme-manipal-university/\n",
      ">>>\n",
      "Executive MBA – Dayanand Sagar University Application Closure Date: Closing Soon\n",
      "https://www.jaroeducation.com/executive-mba-dsu/\n"
     ]
    }
   ],
   "source": [
    "import re\n",
    "for post in post_divs:\n",
    "    # print(post.text)\n",
    "    if post.find(\"div\", class_=\"elementor-widget-container\").text.strip() == \"Admission Open\":\n",
    "        print(\">>>\")\n",
    "        headline = post.find(\"div\", class_=re.compile(r'^elementor-pp-element-\\w+-\\w+ elementor-element elementor-element-\\w+ program_card_title elementor-widget elementor-widget-heading$')).text.strip()\n",
    "        closure_text = post.find(\"div\", class_=re.compile(r'^elementor-pp-element-\\w+-\\w+ elementor-element elementor-element-\\w+ duration_last_date elementor-align-left elementor-mobile-align-left elementor-icon-list--layout-traditional elementor-list-item-link-full_width elementor-widget elementor-widget-icon-list$')).find(\"ul\").findAll(\"li\")[1].text.strip()\n",
    "        print(headline + \" \" + closure_text)\n",
    "        link = post.find(\"a\", class_=\"elementor-button elementor-button-link elementor-size-sm\")['href']\n",
    "        print(link)"
   ]
  },
  {
   "cell_type": "code",
   "execution_count": 17,
   "metadata": {},
   "outputs": [
    {
     "name": "stdout",
     "output_type": "stream",
     "text": [
      "Match found!\n"
     ]
    }
   ],
   "source": [
    "import re\n",
    "\n",
    "pattern = r'^elementor-pp-element-\\w+-\\w+ elementor-element elementor-element-\\w+ program_card_title elementor-widget elementor-widget-heading$'\n",
    "class_string = 'elementor-pp-element-3eeb250-44721 elementor-element elementor-element-3eeb250 program_card_title elementor-widget elementor-widget-heading'\n",
    "\n",
    "if re.match(pattern, class_string):\n",
    "    print(\"Match found!\")\n",
    "else:\n",
    "    print(\"No match found.\")\n",
    "    \n"
   ]
  },
  {
   "cell_type": "code",
   "execution_count": 20,
   "metadata": {},
   "outputs": [
    {
     "data": {
      "text/plain": [
       "<div class=\"elementor-pp-element-3eeb250-7892 elementor-element elementor-element-3eeb250 program_card_title elementor-widget elementor-widget-heading\" data-element_type=\"widget\" data-id=\"3eeb250\" data-pp-template-widget-id=\"3eeb250-7892\" data-widget_type=\"heading.default\">\n",
       "<div class=\"elementor-widget-container\">\n",
       "<h2 class=\"elementor-heading-title elementor-size-default\">MBA Program in Real Estate – NHSRE and HSNC University</h2> </div>\n",
       "</div>"
      ]
     },
     "execution_count": 20,
     "metadata": {},
     "output_type": "execute_result"
    }
   ],
   "source": []
  },
  {
   "cell_type": "code",
   "execution_count": null,
   "metadata": {},
   "outputs": [],
   "source": []
  }
 ],
 "metadata": {
  "kernelspec": {
   "display_name": "Python 3",
   "language": "python",
   "name": "python3"
  },
  "language_info": {
   "codemirror_mode": {
    "name": "ipython",
    "version": 3
   },
   "file_extension": ".py",
   "mimetype": "text/x-python",
   "name": "python",
   "nbconvert_exporter": "python",
   "pygments_lexer": "ipython3",
   "version": "3.10.10"
  }
 },
 "nbformat": 4,
 "nbformat_minor": 2
}
