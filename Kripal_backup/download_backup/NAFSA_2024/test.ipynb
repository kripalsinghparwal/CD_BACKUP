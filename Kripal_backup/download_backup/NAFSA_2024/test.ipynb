{
 "cells": [
  {
   "cell_type": "code",
   "execution_count": 7,
   "metadata": {},
   "outputs": [
    {
     "name": "stdout",
     "output_type": "stream",
     "text": [
      "starting time : 2024-05-17 05:57:51.672716\n"
     ]
    },
    {
     "name": "stdout",
     "output_type": "stream",
     "text": [
      "logged in\n"
     ]
    }
   ],
   "source": [
    "from webdriver_manager.chrome import ChromeDriverManager\n",
    "from bs4 import BeautifulSoup\n",
    "from selenium import webdriver\n",
    "from webdriver_manager.chrome import ChromeDriverManager\n",
    "from selenium.webdriver.common.by import By\n",
    "from selenium.webdriver.chrome.options import Options\n",
    "import re\n",
    "import os\n",
    "import sys\n",
    "import time\n",
    "import pandas as pd\n",
    "import numpy as np\n",
    "import time\n",
    "import logging\n",
    "import datetime\n",
    "#-------------------------------------------------------------------------------------------------------------------------------\n",
    "#when using chrome\n",
    "import tracemalloc\n",
    "\n",
    "tracemalloc.start()\n",
    "\n",
    "#code by pythonjar, not me to prevent notifications\n",
    "chrome_options = webdriver.ChromeOptions()\n",
    "prefs = {\"profile.default_content_setting_values.notifications\" : 2}\n",
    "chrome_options.add_experimental_option(\"prefs\",prefs)\n",
    "\n",
    "\n",
    "logging.basicConfig(filename = \"/home/cd_scrapers/NAFSA_2024/log/log1.log\",level=logging.INFO)\n",
    "logger=logging.getLogger()\n",
    " \n",
    "\n",
    "options = Options()\n",
    "options.add_argument('headless')\n",
    "options.add_argument('--no-sandbox') \n",
    "options.add_argument('--allow-running-insecure-content')\n",
    "options.add_argument('--window-size=1400,600')\n",
    "options.add_argument('--ignore-certificate-errors')\n",
    "options.add_argument('--disable-gpu')\n",
    "options.add_experimental_option(\"excludeSwitches\", ['enable-automation'])\n",
    "    \n",
    "def getting_data(url):#To get the html content of the answers and views of each question\n",
    "    try:\n",
    "        # path='/usr/bin/chromedriver'\n",
    "        driver = webdriver.Chrome(options=options)\n",
    "        driver.get(url)\n",
    "        time.sleep(7)\n",
    "        driver.find_element(By.CLASS_NAME, \"btn.btn-link.pull-right\").click()\n",
    "        time.sleep(2)\n",
    "        login_wrap = driver.find_element(By.CLASS_NAME, \"login-wrap\")\n",
    "        login_wrap.find_element(By.ID, \"AccountEmail\").send_keys(\"sanjay.meena@collegedunia.com\")\n",
    "        login_wrap.find_element(By.ID, \"AccountKey\").send_keys(\"101263\")\n",
    "        time.sleep(2)\n",
    "        login_wrap.find_element(By.CLASS_NAME, \"btn.btn-primary.btn-block\").click()\n",
    "        time.sleep(2)\n",
    "        \n",
    "        # username_field = wait.until(EC.presence_of_element_located((By.ID, 'email')))\n",
    "        # password_field = wait.until(EC.presence_of_element_located((By.ID, 'password')))\n",
    "        # username_field.send_keys(username)\n",
    "        # password_field.send_keys(password)\n",
    "        # password_field.send_keys(Keys.RETURN)\n",
    "        time.sleep(2)\n",
    "        print(\"logged in\")\n",
    "        driver.save_screenshot(\"ss.png\")\n",
    "    except Exception as e:\n",
    "        print(\"driver exception\", e)\n",
    "        driver.save_screenshot(\"excSS.png\")\n",
    "            \n",
    "            \n",
    "if __name__ == \"__main__\":\n",
    "    print(\"starting time :\", datetime.datetime.now())\n",
    "    getting_data(\"https://nafsa2024.eventscribe.net/Userlist.asp?goToLetter=I&bucket=Country&pfp=UserList\")\n",
    "\n"
   ]
  },
  {
   "cell_type": "code",
   "execution_count": 150,
   "metadata": {},
   "outputs": [],
   "source": [
    "from webdriver_manager.chrome import ChromeDriverManager\n",
    "from bs4 import BeautifulSoup\n",
    "from selenium import webdriver\n",
    "from webdriver_manager.chrome import ChromeDriverManager\n",
    "from selenium.webdriver.common.by import By\n",
    "from selenium.webdriver.chrome.options import Options\n",
    "import re\n",
    "import os\n",
    "import sys\n",
    "import time\n",
    "import pandas as pd\n",
    "import numpy as np\n",
    "import time\n",
    "import logging\n",
    "import datetime\n",
    "#-------------------------------------------------------------------------------------------------------------------------------\n",
    "#when using chrome\n",
    "import tracemalloc\n",
    "\n",
    "tracemalloc.start()\n",
    "\n",
    "#code by pythonjar, not me to prevent notifications\n",
    "chrome_options = webdriver.ChromeOptions()\n",
    "prefs = {\"profile.default_content_setting_values.notifications\" : 2}\n",
    "chrome_options.add_experimental_option(\"prefs\",prefs)\n",
    "\n",
    "\n",
    "logging.basicConfig(filename = \"/home/cd_scrapers/NAFSA_2024/log/log1.log\",level=logging.INFO)\n",
    "logger=logging.getLogger()\n",
    " \n",
    "\n",
    "options = Options()\n",
    "options.add_argument('headless')\n",
    "options.add_argument('--no-sandbox') \n",
    "options.add_argument('--allow-running-insecure-content')\n",
    "options.add_argument('--window-size=1400,600')\n",
    "options.add_argument('--ignore-certificate-errors')\n",
    "options.add_argument('--disable-gpu')\n",
    "options.add_experimental_option(\"excludeSwitches\", ['enable-automation'])"
   ]
  },
  {
   "cell_type": "code",
   "execution_count": 151,
   "metadata": {},
   "outputs": [],
   "source": [
    "# url = \"https://nafsa2024.eventscribe.net/Userlist.asp?goToLetter=I&bucket=Country&pfp=UserList\"\n",
    "url = \"https://nafsa2024.eventscribe.net/Userlist.asp?hla=1&goToLetter=I&bucket=Country&pfp=UserList\"\n",
    "driver = webdriver.Chrome(options=options)\n",
    "driver.get(url)\n",
    "time.sleep(7)\n",
    "driver.find_element(By.CLASS_NAME, \"btn.btn-link.pull-right\").click()\n",
    "time.sleep(2)\n",
    "login_wrap = driver.find_element(By.CLASS_NAME, \"login-wrap\")\n",
    "login_wrap.find_element(By.ID, \"AccountEmail\").send_keys(\"sanjay.meena@collegedunia.com\")\n",
    "login_wrap.find_element(By.ID, \"AccountKey\").send_keys(\"101263\")\n",
    "time.sleep(2)\n",
    "login_wrap.find_element(By.CLASS_NAME, \"btn.btn-primary.btn-block\").click()\n",
    "time.sleep(2)"
   ]
  },
  {
   "cell_type": "code",
   "execution_count": 152,
   "metadata": {},
   "outputs": [
    {
     "data": {
      "text/plain": [
       "True"
      ]
     },
     "execution_count": 152,
     "metadata": {},
     "output_type": "execute_result"
    }
   ],
   "source": [
    "driver.save_screenshot(\"s.png\")"
   ]
  },
  {
   "cell_type": "code",
   "execution_count": 153,
   "metadata": {},
   "outputs": [],
   "source": [
    "all_user_group = driver.find_element(By.CLASS_NAME, \"list-group.list-view\")\n",
    "india_user_group = all_user_group.find_elements(By.TAG_NAME, \"li\")[0]"
   ]
  },
  {
   "cell_type": "code",
   "execution_count": 154,
   "metadata": {},
   "outputs": [],
   "source": [
    "india_user_group.click()"
   ]
  },
  {
   "cell_type": "code",
   "execution_count": 155,
   "metadata": {},
   "outputs": [],
   "source": [
    "users_list_data = all_user_group.find_element(By.CLASS_NAME, \"bucketwrapper\").find_elements(By.TAG_NAME, \"li\")"
   ]
  },
  {
   "cell_type": "code",
   "execution_count": 156,
   "metadata": {},
   "outputs": [
    {
     "data": {
      "text/plain": [
       "117"
      ]
     },
     "execution_count": 156,
     "metadata": {},
     "output_type": "execute_result"
    }
   ],
   "source": [
    "len(users_list_data)"
   ]
  },
  {
   "cell_type": "code",
   "execution_count": 179,
   "metadata": {},
   "outputs": [
    {
     "name": "stdout",
     "output_type": "stream",
     "text": [
      "count  1\n"
     ]
    },
    {
     "name": "stdout",
     "output_type": "stream",
     "text": [
      "https://www.facebook.com/siddharthjain1979/\n",
      "https://www.linkedin.com/in/siddharthjain1979/\n",
      "https://www.eduworldwideindia.com/\n",
      "Message: invalid argument: invalid locator\n",
      "  (Session info: chrome-headless-shell=122.0.6261.128)\n",
      "Stacktrace:\n",
      "#0 0x564f81009f33 <unknown>\n",
      "#1 0x564f80d01ce6 <unknown>\n",
      "#2 0x564f80d4c615 <unknown>\n",
      "#3 0x564f80d4cf01 <unknown>\n",
      "#4 0x564f80d41b33 <unknown>\n",
      "#5 0x564f80d6eedd <unknown>\n",
      "#6 0x564f80d416b8 <unknown>\n",
      "#7 0x564f80d6f07e <unknown>\n",
      "#8 0x564f80d8d899 <unknown>\n",
      "#9 0x564f80d6ec53 <unknown>\n",
      "#10 0x564f80d3fdb3 <unknown>\n",
      "#11 0x564f80d4077e <unknown>\n",
      "#12 0x564f80fcf86b <unknown>\n",
      "#13 0x564f80fd3885 <unknown>\n",
      "#14 0x564f80fbd181 <unknown>\n",
      "#15 0x564f80fd4412 <unknown>\n",
      "#16 0x564f80fa125f <unknown>\n",
      "#17 0x564f80ff8528 <unknown>\n",
      "#18 0x564f80ff8723 <unknown>\n",
      "#19 0x564f810090e4 <unknown>\n",
      "#20 0x7fdec8ea9ac3 <unknown>\n",
      "\n",
      "email  siddharth@eduworldwideindia.com\n",
      "coming here\n",
      "exception 1 Message: stale element reference: stale element not found\n",
      "  (Session info: chrome-headless-shell=122.0.6261.128); For documentation on this error, please visit: https://www.selenium.dev/documentation/webdriver/troubleshooting/errors#stale-element-reference-exception\n",
      "Stacktrace:\n",
      "#0 0x564f81009f33 <unknown>\n",
      "#1 0x564f80d01ce6 <unknown>\n",
      "#2 0x564f80d070bc <unknown>\n",
      "#3 0x564f80d08e4b <unknown>\n",
      "#4 0x564f80d08eec <unknown>\n",
      "#5 0x564f80d47322 <unknown>\n",
      "#6 0x564f80d6eeb2 <unknown>\n",
      "#7 0x564f80d416b8 <unknown>\n",
      "#8 0x564f80d6f07e <unknown>\n",
      "#9 0x564f80d8d899 <unknown>\n",
      "#10 0x564f80d6ec53 <unknown>\n",
      "#11 0x564f80d3fdb3 <unknown>\n",
      "#12 0x564f80d4077e <unknown>\n",
      "#13 0x564f80fcf86b <unknown>\n",
      "#14 0x564f80fd3885 <unknown>\n",
      "#15 0x564f80fbd181 <unknown>\n",
      "#16 0x564f80fd4412 <unknown>\n",
      "#17 0x564f80fa125f <unknown>\n",
      "#18 0x564f80ff8528 <unknown>\n",
      "#19 0x564f80ff8723 <unknown>\n",
      "#20 0x564f810090e4 <unknown>\n",
      "#21 0x7fdec8ea9ac3 <unknown>\n",
      "\n",
      "count  2\n",
      "https://www.linkedin.com/in/abhinavagarwal91/\n",
      "Message: invalid argument: invalid locator\n",
      "  (Session info: chrome-headless-shell=122.0.6261.128)\n",
      "Stacktrace:\n",
      "#0 0x564f81009f33 <unknown>\n",
      "#1 0x564f80d01ce6 <unknown>\n",
      "#2 0x564f80d4c615 <unknown>\n",
      "#3 0x564f80d4cf01 <unknown>\n",
      "#4 0x564f80d41b33 <unknown>\n",
      "#5 0x564f80d6eedd <unknown>\n",
      "#6 0x564f80d416b8 <unknown>\n",
      "#7 0x564f80d6f07e <unknown>\n",
      "#8 0x564f80d8d899 <unknown>\n",
      "#9 0x564f80d6ec53 <unknown>\n",
      "#10 0x564f80d3fdb3 <unknown>\n",
      "#11 0x564f80d4077e <unknown>\n",
      "#12 0x564f80fcf86b <unknown>\n",
      "#13 0x564f80fd3885 <unknown>\n",
      "#14 0x564f80fbd181 <unknown>\n",
      "#15 0x564f80fd4412 <unknown>\n",
      "#16 0x564f80fa125f <unknown>\n",
      "#17 0x564f80ff8528 <unknown>\n",
      "#18 0x564f80ff8723 <unknown>\n",
      "#19 0x564f810090e4 <unknown>\n",
      "#20 0x7fdec8ea9ac3 <unknown>\n",
      "\n",
      "email  abhinav.agarwal@collegedunia.com\n",
      "coming here\n",
      "exception 1 Message: stale element reference: stale element not found\n",
      "  (Session info: chrome-headless-shell=122.0.6261.128); For documentation on this error, please visit: https://www.selenium.dev/documentation/webdriver/troubleshooting/errors#stale-element-reference-exception\n",
      "Stacktrace:\n",
      "#0 0x564f81009f33 <unknown>\n",
      "#1 0x564f80d01ce6 <unknown>\n",
      "#2 0x564f80d070bc <unknown>\n",
      "#3 0x564f80d08e4b <unknown>\n",
      "#4 0x564f80d08eec <unknown>\n",
      "#5 0x564f80d47322 <unknown>\n",
      "#6 0x564f80d6eeb2 <unknown>\n",
      "#7 0x564f80d416b8 <unknown>\n",
      "#8 0x564f80d6f07e <unknown>\n",
      "#9 0x564f80d8d899 <unknown>\n",
      "#10 0x564f80d6ec53 <unknown>\n",
      "#11 0x564f80d3fdb3 <unknown>\n",
      "#12 0x564f80d4077e <unknown>\n",
      "#13 0x564f80fcf86b <unknown>\n",
      "#14 0x564f80fd3885 <unknown>\n",
      "#15 0x564f80fbd181 <unknown>\n",
      "#16 0x564f80fd4412 <unknown>\n",
      "#17 0x564f80fa125f <unknown>\n",
      "#18 0x564f80ff8528 <unknown>\n",
      "#19 0x564f80ff8723 <unknown>\n",
      "#20 0x564f810090e4 <unknown>\n",
      "#21 0x7fdec8ea9ac3 <unknown>\n",
      "\n",
      "count  3\n",
      "https://www.facebook.com/KCOverseasEdu/\n",
      "https://twitter.com/KCOverseasEdu\n",
      "https://www.linkedin.com/in/naliniagrawal/\n",
      "https://www.youtube.com/c/KCOverseasEdu\n",
      "https://www.studies-overseas.com/\n",
      "Message: invalid argument: invalid locator\n",
      "  (Session info: chrome-headless-shell=122.0.6261.128)\n",
      "Stacktrace:\n",
      "#0 0x564f81009f33 <unknown>\n",
      "#1 0x564f80d01ce6 <unknown>\n",
      "#2 0x564f80d4c615 <unknown>\n",
      "#3 0x564f80d4cf01 <unknown>\n",
      "#4 0x564f80d41b33 <unknown>\n",
      "#5 0x564f80d6eedd <unknown>\n",
      "#6 0x564f80d416b8 <unknown>\n",
      "#7 0x564f80d6f07e <unknown>\n",
      "#8 0x564f80d8d899 <unknown>\n",
      "#9 0x564f80d6ec53 <unknown>\n",
      "#10 0x564f80d3fdb3 <unknown>\n",
      "#11 0x564f80d4077e <unknown>\n",
      "#12 0x564f80fcf86b <unknown>\n",
      "#13 0x564f80fd3885 <unknown>\n",
      "#14 0x564f80fbd181 <unknown>\n",
      "#15 0x564f80fd4412 <unknown>\n",
      "#16 0x564f80fa125f <unknown>\n",
      "#17 0x564f80ff8528 <unknown>\n",
      "#18 0x564f80ff8723 <unknown>\n",
      "#19 0x564f810090e4 <unknown>\n",
      "#20 0x7fdec8ea9ac3 <unknown>\n",
      "\n",
      "email  nalini@kcoverseas.com\n",
      "coming here\n",
      "exception 1 Message: stale element reference: stale element not found\n",
      "  (Session info: chrome-headless-shell=122.0.6261.128); For documentation on this error, please visit: https://www.selenium.dev/documentation/webdriver/troubleshooting/errors#stale-element-reference-exception\n",
      "Stacktrace:\n",
      "#0 0x564f81009f33 <unknown>\n",
      "#1 0x564f80d01ce6 <unknown>\n",
      "#2 0x564f80d070bc <unknown>\n",
      "#3 0x564f80d08e4b <unknown>\n",
      "#4 0x564f80d08eec <unknown>\n",
      "#5 0x564f80d47322 <unknown>\n",
      "#6 0x564f80d6eeb2 <unknown>\n",
      "#7 0x564f80d416b8 <unknown>\n",
      "#8 0x564f80d6f07e <unknown>\n",
      "#9 0x564f80d8d899 <unknown>\n",
      "#10 0x564f80d6ec53 <unknown>\n",
      "#11 0x564f80d3fdb3 <unknown>\n",
      "#12 0x564f80d4077e <unknown>\n",
      "#13 0x564f80fcf86b <unknown>\n",
      "#14 0x564f80fd3885 <unknown>\n",
      "#15 0x564f80fbd181 <unknown>\n",
      "#16 0x564f80fd4412 <unknown>\n",
      "#17 0x564f80fa125f <unknown>\n",
      "#18 0x564f80ff8528 <unknown>\n",
      "#19 0x564f80ff8723 <unknown>\n",
      "#20 0x564f810090e4 <unknown>\n",
      "#21 0x7fdec8ea9ac3 <unknown>\n",
      "\n",
      "count  4\n",
      "https://www.studies-overseas.com/\n",
      "Message: invalid argument: invalid locator\n",
      "  (Session info: chrome-headless-shell=122.0.6261.128)\n",
      "Stacktrace:\n",
      "#0 0x564f81009f33 <unknown>\n",
      "#1 0x564f80d01ce6 <unknown>\n",
      "#2 0x564f80d4c615 <unknown>\n",
      "#3 0x564f80d4cf01 <unknown>\n",
      "#4 0x564f80d41b33 <unknown>\n",
      "#5 0x564f80d6eedd <unknown>\n",
      "#6 0x564f80d416b8 <unknown>\n",
      "#7 0x564f80d6f07e <unknown>\n",
      "#8 0x564f80d8d899 <unknown>\n",
      "#9 0x564f80d6ec53 <unknown>\n",
      "#10 0x564f80d3fdb3 <unknown>\n",
      "#11 0x564f80d4077e <unknown>\n",
      "#12 0x564f80fcf86b <unknown>\n",
      "#13 0x564f80fd3885 <unknown>\n",
      "#14 0x564f80fbd181 <unknown>\n",
      "#15 0x564f80fd4412 <unknown>\n",
      "#16 0x564f80fa125f <unknown>\n",
      "#17 0x564f80ff8528 <unknown>\n",
      "#18 0x564f80ff8723 <unknown>\n",
      "#19 0x564f810090e4 <unknown>\n",
      "#20 0x7fdec8ea9ac3 <unknown>\n",
      "\n"
     ]
    },
    {
     "ename": "KeyboardInterrupt",
     "evalue": "",
     "output_type": "error",
     "traceback": [
      "\u001b[0;31m---------------------------------------------------------------------------\u001b[0m",
      "\u001b[0;31mKeyboardInterrupt\u001b[0m                         Traceback (most recent call last)",
      "Cell \u001b[0;32mIn[179], line 31\u001b[0m\n\u001b[1;32m     29\u001b[0m \u001b[38;5;28;01mif\u001b[39;00m tool\u001b[38;5;241m.\u001b[39mtext\u001b[38;5;241m.\u001b[39mstrip() \u001b[38;5;241m==\u001b[39m \u001b[38;5;124m'\u001b[39m\u001b[38;5;124mEmail\u001b[39m\u001b[38;5;124m'\u001b[39m:\n\u001b[1;32m     30\u001b[0m     tool\u001b[38;5;241m.\u001b[39mclick()\n\u001b[0;32m---> 31\u001b[0m     \u001b[43mtime\u001b[49m\u001b[38;5;241;43m.\u001b[39;49m\u001b[43msleep\u001b[49m\u001b[43m(\u001b[49m\u001b[38;5;241;43m2\u001b[39;49m\u001b[43m)\u001b[49m\n\u001b[1;32m     32\u001b[0m     driver\u001b[38;5;241m.\u001b[39msave_screenshot(\u001b[38;5;124mf\u001b[39m\u001b[38;5;124m\"\u001b[39m\u001b[38;5;132;01m{\u001b[39;00mcount\u001b[38;5;132;01m}\u001b[39;00m\u001b[38;5;124mss3.png\u001b[39m\u001b[38;5;124m\"\u001b[39m)\n\u001b[1;32m     33\u001b[0m     attendee_email \u001b[38;5;241m=\u001b[39m driver\u001b[38;5;241m.\u001b[39mfind_element(By\u001b[38;5;241m.\u001b[39mCLASS_NAME, \u001b[38;5;124m\"\u001b[39m\u001b[38;5;124mpopup_content\u001b[39m\u001b[38;5;124m\"\u001b[39m)\u001b[38;5;241m.\u001b[39mfind_element(By\u001b[38;5;241m.\u001b[39mCLASS_NAME, \u001b[38;5;124m\"\u001b[39m\u001b[38;5;124mcol-xs-12.col-sm-6\u001b[39m\u001b[38;5;124m\"\u001b[39m)\u001b[38;5;241m.\u001b[39mfind_elements(By\u001b[38;5;241m.\u001b[39mTAG_NAME, \u001b[38;5;124m'\u001b[39m\u001b[38;5;124minput\u001b[39m\u001b[38;5;124m'\u001b[39m)[\u001b[38;5;241m1\u001b[39m]\u001b[38;5;241m.\u001b[39mget_attribute(\u001b[38;5;124m'\u001b[39m\u001b[38;5;124mvalue\u001b[39m\u001b[38;5;124m'\u001b[39m)\n",
      "\u001b[0;31mKeyboardInterrupt\u001b[0m: "
     ]
    }
   ],
   "source": [
    "count = 1\n",
    "for i in users_list_data:\n",
    "    print(\"count \", count)\n",
    "    driver.save_screenshot(f\"test{count}.png\")\n",
    "    try:\n",
    "        i.click()\n",
    "        time.sleep(3)\n",
    "        driver.save_screenshot(f\"{count}ss.png\")\n",
    "        try:\n",
    "            social_media_element = driver.find_element(By.CLASS_NAME, \"socialmedia\")\n",
    "            handles_list = social_media_element.find_elements(By.TAG_NAME, 'a')\n",
    "            for handle in handles_list:\n",
    "                print(handle.get_attribute(\"href\"))\n",
    "        except Exception as e:\n",
    "            print(e)\n",
    "        # try:\n",
    "        #     print(driver.find_element(By.CLASS_NAME, \"col-xs-12.col-md-9\").text)\n",
    "        # except Exception as e:\n",
    "        #     print(e)\n",
    "        try:\n",
    "            for x in driver.find_element(By.CLASS_NAME, \"col-xs-12.col-md-9\").find_elements(By.CLASS_NAME\"popup-mode-line-item\"):\n",
    "                print(x.text)\n",
    "        except Exception as e:\n",
    "            print(e)\n",
    "        pop_up_header = driver.find_element(By.CLASS_NAME, \"popup_header\")\n",
    "        pop_up_header_toolbar = pop_up_header.find_element(By.CLASS_NAME, \"popup_header_toolbar\")\n",
    "        pop_up_tools = pop_up_header_toolbar.find_elements(By.TAG_NAME, \"li\")\n",
    "        for tool in pop_up_tools:\n",
    "            if tool.text.strip() == 'Email':\n",
    "                tool.click()\n",
    "                time.sleep(2)\n",
    "                driver.save_screenshot(f\"{count}ss3.png\")\n",
    "                attendee_email = driver.find_element(By.CLASS_NAME, \"popup_content\").find_element(By.CLASS_NAME, \"col-xs-12.col-sm-6\").find_elements(By.TAG_NAME, 'input')[1].get_attribute('value')\n",
    "                print(\"email \", attendee_email)\n",
    "                driver.find_element(By.CLASS_NAME, \"glyphicon.glyphicon-remove\").click()\n",
    "                time.sleep(5)\n",
    "                print(\"coming here\")\n",
    "        try:\n",
    "            driver.find_element(By.CLASS_NAME, \"glyphicon.glyphicon-remove\").click()\n",
    "        except Exception as e:\n",
    "            pass\n",
    "        count +=1\n",
    "    except Exception as e:\n",
    "        print(\"exception 1\",e)\n",
    "        count +=1\n"
   ]
  },
  {
   "cell_type": "code",
   "execution_count": 181,
   "metadata": {},
   "outputs": [],
   "source": [
    "users_list_data[0].click()\n"
   ]
  },
  {
   "cell_type": "code",
   "execution_count": 183,
   "metadata": {},
   "outputs": [
    {
     "name": "stdout",
     "output_type": "stream",
     "text": [
      "Siddharth Jain\n",
      "Advisor International - EPSI India\n",
      "Education Worldwide India - Global Ed Group\n",
      "Gurugram, Haryana, India\n",
      "Mobile Phone: +919811663707\n",
      "Education Worldwide India is the Leading Education Fair in India being organised by Global Ed Group. www.eduworldwideindia.com\n",
      "\n",
      "Also the organiser of Education India Pavilion in various international conferences like NAFSA, EAIE, APAIE, EURIE and etc.\n",
      "My Organization Provides:\n",
      "Intercultural publications or programs, Research/Consulting, Student recruitment,\n",
      "Type of Organization I work for:\n",
      "Non-profit/Non-governmental Organization\n",
      "My area of Professional Responsibility is:\n",
      "Service or program provider, Non-profit/Non-governmental Organization,\n",
      "My Organization is Interested in Partnership Opportunities to:\n",
      "Receive students from abroad, Send students abroad, Work on capacity building, Provide services or products,\n"
     ]
    }
   ],
   "source": [
    "            for x in driver.find_element(By.CLASS_NAME, \"col-xs-12.col-md-9\").find_elements(By.CLASS_NAME, \"popup-mode-line-item\"):\n",
    "                print(x.text)"
   ]
  },
  {
   "cell_type": "code",
   "execution_count": 169,
   "metadata": {},
   "outputs": [
    {
     "name": "stdout",
     "output_type": "stream",
     "text": [
      "https://www.facebook.com/siddharthjain1979/\n",
      "https://www.linkedin.com/in/siddharthjain1979/\n",
      "https://www.eduworldwideindia.com/\n"
     ]
    }
   ],
   "source": [
    "social_media_element = driver.find_element(By.CLASS_NAME, \"socialmedia\")\n",
    "handles_list = social_media_element.find_elements(By.TAG_NAME, 'a')\n",
    "for handle in handles_list:\n",
    "    print(handle.get_attribute(\"href\"))"
   ]
  },
  {
   "cell_type": "code",
   "execution_count": 168,
   "metadata": {},
   "outputs": [
    {
     "name": "stdout",
     "output_type": "stream",
     "text": [
      "https://www.facebook.com/siddharthjain1979/\n",
      "https://www.linkedin.com/in/siddharthjain1979/\n",
      "https://www.eduworldwideindia.com/\n"
     ]
    }
   ],
   "source": [
    "for handle in social_media_element.find_elements(By.TAG_NAME, \"a\"):\n",
    "    print(handle.get_attribute(\"href\"))"
   ]
  },
  {
   "cell_type": "code",
   "execution_count": 122,
   "metadata": {},
   "outputs": [],
   "source": [
    "        pop_up_header = driver.find_element(By.CLASS_NAME, \"popup_header\")\n",
    "        pop_up_header_toolbar = pop_up_header.find_element(By.CLASS_NAME, \"popup_header_toolbar\")\n",
    "        pop_up_tools = pop_up_header_toolbar.find_elements(By.TAG_NAME, \"li\")"
   ]
  },
  {
   "cell_type": "code",
   "execution_count": 123,
   "metadata": {},
   "outputs": [],
   "source": [
    "        for tool in pop_up_tools:\n",
    "            if tool.text.strip() == 'Email':\n",
    "                tool.click()"
   ]
  },
  {
   "cell_type": "code",
   "execution_count": 124,
   "metadata": {},
   "outputs": [
    {
     "data": {
      "text/plain": [
       "'sekhar@iaecconsultants.com'"
      ]
     },
     "execution_count": 124,
     "metadata": {},
     "output_type": "execute_result"
    }
   ],
   "source": [
    "driver.find_element(By.CLASS_NAME, \"popup_content\").find_element(By.CLASS_NAME, \"col-xs-12.col-sm-6\").find_elements(By.TAG_NAME, 'input')[1].get_attribute('value')"
   ]
  },
  {
   "cell_type": "code",
   "execution_count": 174,
   "metadata": {},
   "outputs": [
    {
     "data": {
      "text/plain": [
       "True"
      ]
     },
     "execution_count": 174,
     "metadata": {},
     "output_type": "execute_result"
    }
   ],
   "source": [
    "driver.save_screenshot(\"t.png\")"
   ]
  },
  {
   "cell_type": "code",
   "execution_count": 180,
   "metadata": {},
   "outputs": [],
   "source": [
    "driver.find_element(By.CLASS_NAME, \"glyphicon.glyphicon-remove\").click()"
   ]
  },
  {
   "cell_type": "code",
   "execution_count": 149,
   "metadata": {},
   "outputs": [],
   "source": [
    "driver.quit(\n",
    "    \n",
    ")"
   ]
  },
  {
   "cell_type": "code",
   "execution_count": 112,
   "metadata": {},
   "outputs": [
    {
     "data": {
      "text/plain": [
       "True"
      ]
     },
     "execution_count": 112,
     "metadata": {},
     "output_type": "execute_result"
    }
   ],
   "source": [
    "driver.save_screenshot(\"t.png\")"
   ]
  },
  {
   "cell_type": "code",
   "execution_count": 1,
   "metadata": {},
   "outputs": [],
   "source": [
    "import pandas as pd\n",
    "data = pd.read_csv(\"/home/cd_scrapers/NAFSA_2024/output_folder/data.csv\")"
   ]
  },
  {
   "cell_type": "code",
   "execution_count": 2,
   "metadata": {},
   "outputs": [
    {
     "data": {
      "text/html": [
       "<div>\n",
       "<style scoped>\n",
       "    .dataframe tbody tr th:only-of-type {\n",
       "        vertical-align: middle;\n",
       "    }\n",
       "\n",
       "    .dataframe tbody tr th {\n",
       "        vertical-align: top;\n",
       "    }\n",
       "\n",
       "    .dataframe thead th {\n",
       "        text-align: right;\n",
       "    }\n",
       "</style>\n",
       "<table border=\"1\" class=\"dataframe\">\n",
       "  <thead>\n",
       "    <tr style=\"text-align: right;\">\n",
       "      <th></th>\n",
       "      <th>Unnamed: 0</th>\n",
       "      <th>social_media_links</th>\n",
       "      <th>Info</th>\n",
       "      <th>email</th>\n",
       "    </tr>\n",
       "  </thead>\n",
       "  <tbody>\n",
       "    <tr>\n",
       "      <th>0</th>\n",
       "      <td>0</td>\n",
       "      <td>https://www.facebook.com/siddharthjain1979/</td>\n",
       "      <td>Siddharth Jain\\nAdvisor International - EPSI I...</td>\n",
       "      <td>siddharth@eduworldwideindia.com</td>\n",
       "    </tr>\n",
       "    <tr>\n",
       "      <th>1</th>\n",
       "      <td>1</td>\n",
       "      <td>https://www.linkedin.com/in/siddharthjain1979/</td>\n",
       "      <td>Siddharth Jain\\nAdvisor International - EPSI I...</td>\n",
       "      <td>siddharth@eduworldwideindia.com</td>\n",
       "    </tr>\n",
       "    <tr>\n",
       "      <th>2</th>\n",
       "      <td>2</td>\n",
       "      <td>https://www.eduworldwideindia.com/</td>\n",
       "      <td>Siddharth Jain\\nAdvisor International - EPSI I...</td>\n",
       "      <td>siddharth@eduworldwideindia.com</td>\n",
       "    </tr>\n",
       "    <tr>\n",
       "      <th>3</th>\n",
       "      <td>0</td>\n",
       "      <td>https://www.linkedin.com/in/abhinavagarwal91/</td>\n",
       "      <td>Abhinav Agarwal\\nEntrepreneur in Residence\\nCo...</td>\n",
       "      <td>abhinav.agarwal@collegedunia.com</td>\n",
       "    </tr>\n",
       "    <tr>\n",
       "      <th>4</th>\n",
       "      <td>0</td>\n",
       "      <td>https://www.facebook.com/KCOverseasEdu/</td>\n",
       "      <td>Nalini Agrawal\\nDirector &amp; Co-Founder\\nKC Over...</td>\n",
       "      <td>nalini@kcoverseas.com</td>\n",
       "    </tr>\n",
       "  </tbody>\n",
       "</table>\n",
       "</div>"
      ],
      "text/plain": [
       "   Unnamed: 0                              social_media_links  \\\n",
       "0           0     https://www.facebook.com/siddharthjain1979/   \n",
       "1           1  https://www.linkedin.com/in/siddharthjain1979/   \n",
       "2           2              https://www.eduworldwideindia.com/   \n",
       "3           0   https://www.linkedin.com/in/abhinavagarwal91/   \n",
       "4           0         https://www.facebook.com/KCOverseasEdu/   \n",
       "\n",
       "                                                Info  \\\n",
       "0  Siddharth Jain\\nAdvisor International - EPSI I...   \n",
       "1  Siddharth Jain\\nAdvisor International - EPSI I...   \n",
       "2  Siddharth Jain\\nAdvisor International - EPSI I...   \n",
       "3  Abhinav Agarwal\\nEntrepreneur in Residence\\nCo...   \n",
       "4  Nalini Agrawal\\nDirector & Co-Founder\\nKC Over...   \n",
       "\n",
       "                              email  \n",
       "0   siddharth@eduworldwideindia.com  \n",
       "1   siddharth@eduworldwideindia.com  \n",
       "2   siddharth@eduworldwideindia.com  \n",
       "3  abhinav.agarwal@collegedunia.com  \n",
       "4             nalini@kcoverseas.com  "
      ]
     },
     "execution_count": 2,
     "metadata": {},
     "output_type": "execute_result"
    }
   ],
   "source": [
    "data.head()"
   ]
  },
  {
   "cell_type": "code",
   "execution_count": 1,
   "metadata": {},
   "outputs": [],
   "source": [
    "row_dict = {'social_media_links': ['https://www.facebook.com/afsha.aziz.7/', 'https://www.linkedin.com/in/afsha-aziz-b508653b?utm_source=share&utm_campaign=share_via&utm_content=profile&utm_medium=android_app', 'https://www.unibrijj.com/'], 'Info': 'Afsha Aziz\\nFounder & Director\\nUniBrijj.com (A Division of Cresta Expert Pvt Ltd)\\nNew Delhi, Delhi, India\\nMobile Phone: (859) 584-8031\\nMy Organization Provides:\\nResearch/Consulting, Student recruitment\\nType of Organization I work for:\\nService or program provider\\nMy area of Professional Responsibility is:\\nCommunity Colleges, Undergraduate colleges or universities, Post-graduate colleges or universities\\nMy Organization is Interested in Partnership Opportunities to:\\nSend students abroad', 'email': 'aaziz@unibrijj.com'}"
   ]
  },
  {
   "cell_type": "code",
   "execution_count": 2,
   "metadata": {},
   "outputs": [],
   "source": [
    "dict_list = []\n",
    "dict_list.append(row_dict)\n",
    "dict_list.append(row_dict)\n",
    "dict_list.append(row_dict)\n"
   ]
  },
  {
   "cell_type": "code",
   "execution_count": 3,
   "metadata": {},
   "outputs": [
    {
     "data": {
      "text/plain": [
       "[{'social_media_links': ['https://www.facebook.com/afsha.aziz.7/',\n",
       "   'https://www.linkedin.com/in/afsha-aziz-b508653b?utm_source=share&utm_campaign=share_via&utm_content=profile&utm_medium=android_app',\n",
       "   'https://www.unibrijj.com/'],\n",
       "  'Info': 'Afsha Aziz\\nFounder & Director\\nUniBrijj.com (A Division of Cresta Expert Pvt Ltd)\\nNew Delhi, Delhi, India\\nMobile Phone: (859) 584-8031\\nMy Organization Provides:\\nResearch/Consulting, Student recruitment\\nType of Organization I work for:\\nService or program provider\\nMy area of Professional Responsibility is:\\nCommunity Colleges, Undergraduate colleges or universities, Post-graduate colleges or universities\\nMy Organization is Interested in Partnership Opportunities to:\\nSend students abroad',\n",
       "  'email': 'aaziz@unibrijj.com'},\n",
       " {'social_media_links': ['https://www.facebook.com/afsha.aziz.7/',\n",
       "   'https://www.linkedin.com/in/afsha-aziz-b508653b?utm_source=share&utm_campaign=share_via&utm_content=profile&utm_medium=android_app',\n",
       "   'https://www.unibrijj.com/'],\n",
       "  'Info': 'Afsha Aziz\\nFounder & Director\\nUniBrijj.com (A Division of Cresta Expert Pvt Ltd)\\nNew Delhi, Delhi, India\\nMobile Phone: (859) 584-8031\\nMy Organization Provides:\\nResearch/Consulting, Student recruitment\\nType of Organization I work for:\\nService or program provider\\nMy area of Professional Responsibility is:\\nCommunity Colleges, Undergraduate colleges or universities, Post-graduate colleges or universities\\nMy Organization is Interested in Partnership Opportunities to:\\nSend students abroad',\n",
       "  'email': 'aaziz@unibrijj.com'},\n",
       " {'social_media_links': ['https://www.facebook.com/afsha.aziz.7/',\n",
       "   'https://www.linkedin.com/in/afsha-aziz-b508653b?utm_source=share&utm_campaign=share_via&utm_content=profile&utm_medium=android_app',\n",
       "   'https://www.unibrijj.com/'],\n",
       "  'Info': 'Afsha Aziz\\nFounder & Director\\nUniBrijj.com (A Division of Cresta Expert Pvt Ltd)\\nNew Delhi, Delhi, India\\nMobile Phone: (859) 584-8031\\nMy Organization Provides:\\nResearch/Consulting, Student recruitment\\nType of Organization I work for:\\nService or program provider\\nMy area of Professional Responsibility is:\\nCommunity Colleges, Undergraduate colleges or universities, Post-graduate colleges or universities\\nMy Organization is Interested in Partnership Opportunities to:\\nSend students abroad',\n",
       "  'email': 'aaziz@unibrijj.com'}]"
      ]
     },
     "execution_count": 3,
     "metadata": {},
     "output_type": "execute_result"
    }
   ],
   "source": [
    "dict_list"
   ]
  },
  {
   "cell_type": "code",
   "execution_count": 5,
   "metadata": {},
   "outputs": [
    {
     "data": {
      "text/html": [
       "<div>\n",
       "<style scoped>\n",
       "    .dataframe tbody tr th:only-of-type {\n",
       "        vertical-align: middle;\n",
       "    }\n",
       "\n",
       "    .dataframe tbody tr th {\n",
       "        vertical-align: top;\n",
       "    }\n",
       "\n",
       "    .dataframe thead th {\n",
       "        text-align: right;\n",
       "    }\n",
       "</style>\n",
       "<table border=\"1\" class=\"dataframe\">\n",
       "  <thead>\n",
       "    <tr style=\"text-align: right;\">\n",
       "      <th></th>\n",
       "      <th>social_media_links</th>\n",
       "      <th>Info</th>\n",
       "      <th>email</th>\n",
       "    </tr>\n",
       "  </thead>\n",
       "  <tbody>\n",
       "    <tr>\n",
       "      <th>0</th>\n",
       "      <td>[https://www.facebook.com/afsha.aziz.7/, https...</td>\n",
       "      <td>Afsha Aziz\\nFounder &amp; Director\\nUniBrijj.com (...</td>\n",
       "      <td>aaziz@unibrijj.com</td>\n",
       "    </tr>\n",
       "    <tr>\n",
       "      <th>1</th>\n",
       "      <td>[https://www.facebook.com/afsha.aziz.7/, https...</td>\n",
       "      <td>Afsha Aziz\\nFounder &amp; Director\\nUniBrijj.com (...</td>\n",
       "      <td>aaziz@unibrijj.com</td>\n",
       "    </tr>\n",
       "    <tr>\n",
       "      <th>2</th>\n",
       "      <td>[https://www.facebook.com/afsha.aziz.7/, https...</td>\n",
       "      <td>Afsha Aziz\\nFounder &amp; Director\\nUniBrijj.com (...</td>\n",
       "      <td>aaziz@unibrijj.com</td>\n",
       "    </tr>\n",
       "  </tbody>\n",
       "</table>\n",
       "</div>"
      ],
      "text/plain": [
       "                                  social_media_links  \\\n",
       "0  [https://www.facebook.com/afsha.aziz.7/, https...   \n",
       "1  [https://www.facebook.com/afsha.aziz.7/, https...   \n",
       "2  [https://www.facebook.com/afsha.aziz.7/, https...   \n",
       "\n",
       "                                                Info               email  \n",
       "0  Afsha Aziz\\nFounder & Director\\nUniBrijj.com (...  aaziz@unibrijj.com  \n",
       "1  Afsha Aziz\\nFounder & Director\\nUniBrijj.com (...  aaziz@unibrijj.com  \n",
       "2  Afsha Aziz\\nFounder & Director\\nUniBrijj.com (...  aaziz@unibrijj.com  "
      ]
     },
     "execution_count": 5,
     "metadata": {},
     "output_type": "execute_result"
    }
   ],
   "source": [
    "import pandas as pd\n",
    "pd.DataFrame(dict_list)"
   ]
  },
  {
   "cell_type": "code",
   "execution_count": null,
   "metadata": {},
   "outputs": [],
   "source": []
  }
 ],
 "metadata": {
  "kernelspec": {
   "display_name": ".venv",
   "language": "python",
   "name": "python3"
  },
  "language_info": {
   "codemirror_mode": {
    "name": "ipython",
    "version": 3
   },
   "file_extension": ".py",
   "mimetype": "text/x-python",
   "name": "python",
   "nbconvert_exporter": "python",
   "pygments_lexer": "ipython3",
   "version": "3.10.12"
  }
 },
 "nbformat": 4,
 "nbformat_minor": 2
}
