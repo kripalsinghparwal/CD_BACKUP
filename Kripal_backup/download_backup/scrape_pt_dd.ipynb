{
  "nbformat": 4,
  "nbformat_minor": 0,
  "metadata": {
    "colab": {
      "provenance": []
    },
    "kernelspec": {
      "name": "python3",
      "display_name": "Python 3"
    },
    "language_info": {
      "name": "python"
    }
  },
  "cells": [
    {
      "cell_type": "code",
      "execution_count": 2,
      "metadata": {
        "id": "y_ayMjgCLPEm"
      },
      "outputs": [],
      "source": [
        "import requests\n",
        "from bs4 import BeautifulSoup\n",
        "import pandas as pd"
      ]
    },
    {
      "cell_type": "code",
      "source": [
        "url = \"https://shekhauni.ac.in/allnews.aspx\"\n",
        "\n",
        "response = requests.get(url)"
      ],
      "metadata": {
        "id": "uoSp_MQ6LWk7"
      },
      "execution_count": 3,
      "outputs": []
    },
    {
      "cell_type": "code",
      "source": [
        "if response.status_code == 200:\n",
        "    soup = BeautifulSoup(response.content, \"html.parser\")\n",
        "    news_items = soup.find_all('table', class_='table table-striped table-bordered table-hover')\n",
        "    listi = soup.find_all('tr')\n",
        "    data = []\n",
        "\n",
        "    for i in listi:\n",
        "      title = i.find(\"a\").text.strip()\n",
        "      date_element = i.find(\"span\")\n",
        "      date = date_element.get_text(strip=True).replace('Date: ', '') if date_element else \"\"\n",
        "      link = i.find(\"a\")[\"href\"]\n",
        "      print(title)\n",
        "      print(date)\n",
        "      print (link)\n",
        "\n",
        "      data.append({\"URL\": url, \"Title\": title, \"Date\": date, \"Link\": link})\n",
        "\n",
        "    df = pd.DataFrame(data)\n",
        "\n",
        "    df.to_csv(\"shekhauni_news.csv\", index=False)"
      ],
      "metadata": {
        "colab": {
          "base_uri": "https://localhost:8080/"
        },
        "id": "WlGmM_zSLfrV",
        "outputId": "8b0ea66c-9cc7-4a62-b379-cce7d6532692"
      },
      "execution_count": 9,
      "outputs": [
        {
          "output_type": "stream",
          "name": "stdout",
          "text": [
            "Correction in exam date\n",
            "18/01/2024\n",
            "Uploadfile/News/News_64aca7da-9372-486c-bfd6-d310f4939ffb_exam_Date_correction.pdf\n",
            "Date Extend of Semester First Online Exam Form with late fees\n",
            "18/01/2024\n",
            "Uploadfile/News/News_9f894069-36d7-46ed-a5c6-45eb810ed757_form_Date_extend.pdf\n",
            "Semester -1 (December -2023) Exam Time Table & Notice for Practical Exam\n",
            "16/01/2024\n",
            "Uploadfile/News/News_d8ad4fe8-f7c4-4546-8dba-6c85d5cf2f3d_6749.pdf\n",
            "VC Power Holiday\n",
            "12/01/2024\n",
            "Uploadfile/News/News_2ac64ef2-4d5a-43df-96f0-f23b87f95aff_Leave.pdf\n",
            "Date Extend of Semester First Online Exam Form with late fees\n",
            "11/01/2024\n",
            "Uploadfile/News/News_93dfbb72-270e-4f3d-99cc-1359eb3913bd_examdate.pdf\n",
            "Inter college tournament Cycling road (Men) 2023-24\n",
            "06/01/2024\n",
            "Uploadfile/News/News_af2484fc-544a-4fe2-9460-9db8a8ea9489_28.pdf\n",
            "Date Extend of Semester First Online Exam Form\n",
            "05/01/2024\n",
            "Uploadfile/News/News_c7b28672-bba8-4a30-a355-82a3a3b7c9f0_Date Extend Semester.pdf\n",
            "आवश्यक सूचना : सेमेस्टर परीक्षा आवेदन - पत्र\n",
            "03/01/2024\n",
            "Uploadfile/News/News_09c795f9-c90c-4d55-9fd8-43623b5d35e2_Semester Form.pdf\n",
            "List of colleges for Economics practical training of Semester - I, Dec 2023 for non collegiate students\n",
            "02/01/2024\n",
            "Uploadfile/News/News_37b873ff-94cb-4389-8874-9d443436b79a_Practical Traning.pdf\n"
          ]
        }
      ]
    }
  ]
}